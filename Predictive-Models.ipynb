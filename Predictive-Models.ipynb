{
 "cells": [
  {
   "cell_type": "markdown",
   "metadata": {},
   "source": [
    "# Predictive Models"
   ]
  },
  {
   "cell_type": "markdown",
   "metadata": {},
   "source": [
    "Standard Algorithms chosen:\n",
    "-  Logistic Regression\n",
    "-  Linear Discriminant Analysis\n",
    "-  K-Nearest Neighbors\n",
    "-  Naive Bayes\n",
    "-  Support Vector Machines\n",
    "\n",
    "Ensemble Algorithms chosen:\n",
    "-  Adaboost\n",
    "-  Gradient Boosted Decision Tree\n",
    "-  Random Forest\n",
    "-  Extremely Randomized Trees \n",
    "\n",
    "Goals:\n",
    "-  Compare standard algorithm performance on unscaled data\n",
    "-  Compare standard algorithm performance on scaled data\n",
    "-  Tune parameters of best performing algorithm\n",
    "-  Compare ensemble methods on scaled data\n",
    "-  Predict with best model \n",
    "-  See if performance can be further improved with further feature selection"
   ]
  },
  {
   "cell_type": "code",
   "execution_count": 1,
   "metadata": {
    "collapsed": false
   },
   "outputs": [],
   "source": [
    "import numpy as np\n",
    "import matplotlib.pyplot as plt\n",
    "import pandas as pd\n",
    "import seaborn as sb\n",
    "from sklearn.preprocessing import StandardScaler\n",
    "from sklearn.model_selection import train_test_split\n",
    "from sklearn.model_selection import KFold\n",
    "from sklearn.model_selection import cross_val_score\n",
    "from sklearn.model_selection import GridSearchCV\n",
    "from sklearn.metrics import classification_report\n",
    "from sklearn.metrics import confusion_matrix\n",
    "from sklearn.metrics import accuracy_score\n",
    "from sklearn.pipeline import Pipeline\n",
    "from sklearn.linear_model import LogisticRegression\n",
    "from sklearn.tree import DecisionTreeClassifier\n",
    "from sklearn.neighbors import KNeighborsClassifier\n",
    "from sklearn.discriminant_analysis import LinearDiscriminantAnalysis\n",
    "from sklearn.naive_bayes import GaussianNB\n",
    "from sklearn.svm import SVC\n",
    "from sklearn.ensemble import AdaBoostClassifier\n",
    "from sklearn.ensemble import GradientBoostingClassifier\n",
    "from sklearn.ensemble import RandomForestClassifier\n",
    "from sklearn.ensemble import ExtraTreesClassifier"
   ]
  },
  {
   "cell_type": "code",
   "execution_count": 2,
   "metadata": {
    "collapsed": false
   },
   "outputs": [],
   "source": [
    "df = pd.read_csv('prediction.csv')"
   ]
  },
  {
   "cell_type": "code",
   "execution_count": 3,
   "metadata": {
    "collapsed": false
   },
   "outputs": [
    {
     "data": {
      "text/html": [
       "<div>\n",
       "<table border=\"1\" class=\"dataframe\">\n",
       "  <thead>\n",
       "    <tr style=\"text-align: right;\">\n",
       "      <th></th>\n",
       "      <th>meanXaccel</th>\n",
       "      <th>medianXaccel</th>\n",
       "      <th>stdXaccel</th>\n",
       "      <th>skewXaccel</th>\n",
       "      <th>kurtXaccel</th>\n",
       "      <th>rangeXaccel</th>\n",
       "      <th>variationXaccel</th>\n",
       "      <th>meanYaccel</th>\n",
       "      <th>medianYaccel</th>\n",
       "      <th>stdYaccel</th>\n",
       "      <th>...</th>\n",
       "      <th>rangeYaccel</th>\n",
       "      <th>variationYaccel</th>\n",
       "      <th>meanZaccel</th>\n",
       "      <th>medianZaccel</th>\n",
       "      <th>stdZaccel</th>\n",
       "      <th>skewZaccel</th>\n",
       "      <th>kurtZaccel</th>\n",
       "      <th>rangeZaccel</th>\n",
       "      <th>variationZaccel</th>\n",
       "      <th>professional-diagnosis</th>\n",
       "    </tr>\n",
       "  </thead>\n",
       "  <tbody>\n",
       "    <tr>\n",
       "      <th>0</th>\n",
       "      <td>-0.060817</td>\n",
       "      <td>-0.039582</td>\n",
       "      <td>0.251105</td>\n",
       "      <td>-0.438470</td>\n",
       "      <td>0.141505</td>\n",
       "      <td>1.508230</td>\n",
       "      <td>-4.128884</td>\n",
       "      <td>0.048314</td>\n",
       "      <td>0.021201</td>\n",
       "      <td>0.315285</td>\n",
       "      <td>...</td>\n",
       "      <td>1.895134</td>\n",
       "      <td>6.525710</td>\n",
       "      <td>-0.104390</td>\n",
       "      <td>-0.152150</td>\n",
       "      <td>0.475797</td>\n",
       "      <td>0.726143</td>\n",
       "      <td>0.544279</td>\n",
       "      <td>3.060726</td>\n",
       "      <td>-4.557892</td>\n",
       "      <td>False</td>\n",
       "    </tr>\n",
       "    <tr>\n",
       "      <th>1</th>\n",
       "      <td>-0.015293</td>\n",
       "      <td>0.019290</td>\n",
       "      <td>0.205124</td>\n",
       "      <td>-0.854834</td>\n",
       "      <td>1.367009</td>\n",
       "      <td>1.521156</td>\n",
       "      <td>-13.413365</td>\n",
       "      <td>0.050700</td>\n",
       "      <td>0.029125</td>\n",
       "      <td>0.267536</td>\n",
       "      <td>...</td>\n",
       "      <td>1.910760</td>\n",
       "      <td>5.276845</td>\n",
       "      <td>-0.009990</td>\n",
       "      <td>0.011845</td>\n",
       "      <td>0.388474</td>\n",
       "      <td>0.143198</td>\n",
       "      <td>0.936114</td>\n",
       "      <td>3.061306</td>\n",
       "      <td>-38.884676</td>\n",
       "      <td>False</td>\n",
       "    </tr>\n",
       "    <tr>\n",
       "      <th>2</th>\n",
       "      <td>0.013353</td>\n",
       "      <td>0.023553</td>\n",
       "      <td>0.206104</td>\n",
       "      <td>-0.969447</td>\n",
       "      <td>4.550264</td>\n",
       "      <td>2.571121</td>\n",
       "      <td>15.434469</td>\n",
       "      <td>0.047635</td>\n",
       "      <td>0.020974</td>\n",
       "      <td>0.230869</td>\n",
       "      <td>...</td>\n",
       "      <td>2.653296</td>\n",
       "      <td>4.846593</td>\n",
       "      <td>-0.098005</td>\n",
       "      <td>-0.091900</td>\n",
       "      <td>0.420515</td>\n",
       "      <td>-1.091197</td>\n",
       "      <td>7.715927</td>\n",
       "      <td>5.277242</td>\n",
       "      <td>-4.290775</td>\n",
       "      <td>False</td>\n",
       "    </tr>\n",
       "    <tr>\n",
       "      <th>3</th>\n",
       "      <td>0.016124</td>\n",
       "      <td>0.023198</td>\n",
       "      <td>0.192878</td>\n",
       "      <td>-0.936322</td>\n",
       "      <td>4.949377</td>\n",
       "      <td>2.571121</td>\n",
       "      <td>11.962509</td>\n",
       "      <td>0.056733</td>\n",
       "      <td>0.024706</td>\n",
       "      <td>0.226478</td>\n",
       "      <td>...</td>\n",
       "      <td>2.653296</td>\n",
       "      <td>3.992016</td>\n",
       "      <td>-0.068101</td>\n",
       "      <td>-0.036225</td>\n",
       "      <td>0.425813</td>\n",
       "      <td>-1.372953</td>\n",
       "      <td>7.632989</td>\n",
       "      <td>5.277242</td>\n",
       "      <td>-6.252671</td>\n",
       "      <td>False</td>\n",
       "    </tr>\n",
       "    <tr>\n",
       "      <th>4</th>\n",
       "      <td>0.013815</td>\n",
       "      <td>0.019293</td>\n",
       "      <td>0.198090</td>\n",
       "      <td>-0.664648</td>\n",
       "      <td>4.381479</td>\n",
       "      <td>2.674647</td>\n",
       "      <td>14.338761</td>\n",
       "      <td>0.048095</td>\n",
       "      <td>0.019794</td>\n",
       "      <td>0.246758</td>\n",
       "      <td>...</td>\n",
       "      <td>3.030658</td>\n",
       "      <td>5.130650</td>\n",
       "      <td>-0.057569</td>\n",
       "      <td>-0.030008</td>\n",
       "      <td>0.396042</td>\n",
       "      <td>-1.491347</td>\n",
       "      <td>9.065509</td>\n",
       "      <td>5.277242</td>\n",
       "      <td>-6.879401</td>\n",
       "      <td>False</td>\n",
       "    </tr>\n",
       "  </tbody>\n",
       "</table>\n",
       "<p>5 rows × 22 columns</p>\n",
       "</div>"
      ],
      "text/plain": [
       "   meanXaccel  medianXaccel  stdXaccel  skewXaccel  kurtXaccel  rangeXaccel  \\\n",
       "0   -0.060817     -0.039582   0.251105   -0.438470    0.141505     1.508230   \n",
       "1   -0.015293      0.019290   0.205124   -0.854834    1.367009     1.521156   \n",
       "2    0.013353      0.023553   0.206104   -0.969447    4.550264     2.571121   \n",
       "3    0.016124      0.023198   0.192878   -0.936322    4.949377     2.571121   \n",
       "4    0.013815      0.019293   0.198090   -0.664648    4.381479     2.674647   \n",
       "\n",
       "   variationXaccel  meanYaccel  medianYaccel  stdYaccel  \\\n",
       "0        -4.128884    0.048314      0.021201   0.315285   \n",
       "1       -13.413365    0.050700      0.029125   0.267536   \n",
       "2        15.434469    0.047635      0.020974   0.230869   \n",
       "3        11.962509    0.056733      0.024706   0.226478   \n",
       "4        14.338761    0.048095      0.019794   0.246758   \n",
       "\n",
       "            ...            rangeYaccel  variationYaccel  meanZaccel  \\\n",
       "0           ...               1.895134         6.525710   -0.104390   \n",
       "1           ...               1.910760         5.276845   -0.009990   \n",
       "2           ...               2.653296         4.846593   -0.098005   \n",
       "3           ...               2.653296         3.992016   -0.068101   \n",
       "4           ...               3.030658         5.130650   -0.057569   \n",
       "\n",
       "   medianZaccel  stdZaccel  skewZaccel  kurtZaccel  rangeZaccel  \\\n",
       "0     -0.152150   0.475797    0.726143    0.544279     3.060726   \n",
       "1      0.011845   0.388474    0.143198    0.936114     3.061306   \n",
       "2     -0.091900   0.420515   -1.091197    7.715927     5.277242   \n",
       "3     -0.036225   0.425813   -1.372953    7.632989     5.277242   \n",
       "4     -0.030008   0.396042   -1.491347    9.065509     5.277242   \n",
       "\n",
       "   variationZaccel  professional-diagnosis  \n",
       "0        -4.557892                   False  \n",
       "1       -38.884676                   False  \n",
       "2        -4.290775                   False  \n",
       "3        -6.252671                   False  \n",
       "4        -6.879401                   False  \n",
       "\n",
       "[5 rows x 22 columns]"
      ]
     },
     "execution_count": 3,
     "metadata": {},
     "output_type": "execute_result"
    }
   ],
   "source": [
    "df = df.drop(['Unnamed: 0', 'recordId', 'healthCode', 'age', 'gender'], axis=1)\n",
    "df.head()"
   ]
  },
  {
   "cell_type": "code",
   "execution_count": 4,
   "metadata": {
    "collapsed": false
   },
   "outputs": [],
   "source": [
    "# split out into train and test\n",
    "\n",
    "array = df.values\n",
    "\n",
    "X = array[:,0:21].astype(float)\n",
    "y = array[:,21].astype(int)\n",
    "\n",
    "X_train, X_test, y_train, y_test = train_test_split(X, y, test_size=0.2, random_state=7)"
   ]
  },
  {
   "cell_type": "markdown",
   "metadata": {},
   "source": [
    "# Standard Algorithms"
   ]
  },
  {
   "cell_type": "markdown",
   "metadata": {},
   "source": [
    "We turn our attention to classification. Classification tries to predict, which of a small set of classes, an observation belongs to. Mathematically, the aim is to find  $y$ , a label based on knowing a feature vector  $x$ . In the context of this data we have a binary classification problem where  $y$  has only two classes: a positive diagnosis of Parkinson's Disease (1) and a negative diagnosis of Parkison's Disease (0). 5 popular algorithms for binary classification are Logistic Regression, Linear Discriminant Analysis, K-Nearest Neighbors, Naive Bayes Classification, and Support Vector Machines.\n",
    "\n",
    "Let's get into a description of the 5 algorithms below:"
   ]
  },
  {
   "cell_type": "markdown",
   "metadata": {},
   "source": [
    "## Logistic Regression "
   ]
  },
  {
   "cell_type": "markdown",
   "metadata": {},
   "source": [
    "Logistic regression is one of the go-to models used for binary classification and is known as a discriminative classifier. The goal is to draw a line in feature space that divides the 1 samples from the 0 samples. In other words, we wish to find the line which divides the samples. A line has the form $w_1 x_1 + w_2 x_2 + w_0 = 0$ in 2-dimensions.\n",
    "\n",
    "$$w_1 x_1 + w_2 x_2 + w_0 \\ge 0,$$\n",
    "\n",
    "and on the other side we have \n",
    "\n",
    "$$w_1 x_1 + w_2 x_2 + w_0 < 0.$$ \n",
    "\n",
    "Our classification rule then becomes:\n",
    "\n",
    "\\begin{eqnarray*}\n",
    "y = 1 & \\ if & {w}\\cdot\\ {x} \\ge 0\\\\\n",
    "y = 0 & \\ if & {w}\\cdot\\ {x} < 0\n",
    "\\end{eqnarray*}\n",
    "\n",
    "where ${x}$ is the vector $\\{1,x_1, x_2,...,x_n\\}$ where we have our features - in the context of this data those features are the columns in our dataframe such as the three axis acceleration variables. \n",
    "\n",
    "To achieve this we use the sigmoid function:\n",
    "\n",
    "$$h(z) = \\frac{1}{1 + e^{-z}}.$$\n",
    "\n",
    "We can then identify that $z = {w}\\cdot\\ {x}$ ,where $z=0$ this function has the value 0.5. If $z > 0$, $h > 0.5$ and as $z \\to \\infty$, $h \\to 1$. If $z < 0$, $h < 0.5$ and as $z \\to -\\infty$, $h \\to 0$. "
   ]
  },
  {
   "cell_type": "markdown",
   "metadata": {},
   "source": [
    "## K-Nearest Neighbors "
   ]
  },
  {
   "cell_type": "markdown",
   "metadata": {},
   "source": [
    "The intuition behind K-Nearest Neighbors(kNN) is that samples close to each other in feature-space share a label. In other words: if a lot of samples in some area of the feature space belong to one class (positive diagnosis) as compared to the other (negative diagnosis), we'll label that part of the feature space as belonging to that class. For a binary classification problem such as ours, this process will then classify the feature space into two class-based regions. Then, given the point in feature space, we find which region its in and its class.\n",
    "\n",
    "KNN does this by scanning for the k nearest neighbors in the training set of the new sample. Before scanning, we must define a distance in the feature space to define which neighbors are \"close\". This distance is typically defined as the Euclidean distance, the sum of the square of the difference of each feature value between any two samples.\n",
    "\n",
    "$$D(s_1,s_2) = \\sum_f (x_{f1} - x_{f2})^2.$$\n",
    "\n",
    "In the context of our problem which is binary classification, an alternative distance metric that we could use is the Hamming distance."
   ]
  },
  {
   "cell_type": "markdown",
   "metadata": {},
   "source": [
    "## Decision Trees"
   ]
  },
  {
   "cell_type": "markdown",
   "metadata": {},
   "source": [
    "In this problem above we want to be able to classify positively diagnosed patients from negatively diagnosed patients using our axis acceleration features. These are all continuous variables and we also have an observed label $Y_i$ for each class, 1 and 0. \n",
    "\n",
    "-  At each step of the algorithm we consider a list of possible decision (or split), for example kurtXaccel > 0.5\n",
    "-  For each possible decision we recalculate the predictor for that rule, for example $\\hat{Y}_i = 1$ if kurtXaccel > 0.5 and $0$ otherwise.\n",
    "- We recalculate the loss for each possible decision: $1/m \\sum_{i=1} {L(h(x), y)}$\n",
    "- We choose the decision that reduces the loss by the largest amount\n",
    "\n",
    "The common fault of decision trees is that they have poor predictive power. Most tend to overfit the training data and have difficulty predicting on unseen data due to its lack of flexibility."
   ]
  },
  {
   "cell_type": "markdown",
   "metadata": {},
   "source": [
    "## Naive Bayes\n",
    "\n",
    "From Bayes' Theorem, we have that\n",
    "\n",
    "$$P(c \\vert f) \\propto P(f \\vert c) P(c) $$\n",
    "\n",
    "$P(c)$ is called the *prior* and is simply the probability of seeing class $c$. $P(f \\vert c)$ is the probability that we see feature set $f$ given that this patient is actually in class $c$. This is called the likelihood and comes from the data. One of the  assumptions of the Naive Bayes model is that the features are conditionally independent given the class. Conditional independence means that the presence of that term is independent of all the other patients that appear within that class. If two events are independent, then:\n",
    "\n",
    "$$P(A \\cap B) = P(A) \\cdot P(B)$$\n",
    "\n",
    "conditional independence implies\n",
    "\n",
    "$$P(f \\vert c)  = \\prod_i P(f_i | c) $$\n",
    "\n",
    "where $f_i$ is an individual feature. To make a classification, we then choose the class $c$ such that $P(c \\vert f)$ is maximal. This model typically works better with categorical features as opposed to our features which our numerical."
   ]
  },
  {
   "cell_type": "markdown",
   "metadata": {},
   "source": [
    "## Linear Discriminant Analysis"
   ]
  },
  {
   "cell_type": "markdown",
   "metadata": {},
   "source": [
    "Linear Discriminant Analysis (LDA) makes predictions by estimating the probability that a new set of inputs belongs to each class. The class that gets the highest probability is the output class and a prediction is made.  LDA also uses Bayes' theorem to compute the probability.  \n",
    "\n",
    "In comparison with linear regression, the former tries to fit a line through the data points in an n-dimensional plane, such that the distances between the points and the line is minimized. In LDA, the task is to maximize the distance between the discrminating boundary or the discriminating line to the data points on either side of the line and minimize the distances between the points themselves.\n",
    "\n",
    "An key issue is that LDA can generate only c or less, number of features, where C is the number of classes. In our problem we have 21 features and only 2 classes. LDA will have to reduce to 2 axis and this reduction could lead to loss of information, which could cause a low classification accuracy."
   ]
  },
  {
   "cell_type": "markdown",
   "metadata": {},
   "source": [
    "## Support Vector Machines"
   ]
  },
  {
   "cell_type": "markdown",
   "metadata": {},
   "source": [
    "A Support Vector Machine (SVM) is a form of a linear discriminant classifier defined by a separating hyperplane. In the context of this problem, given our labeled training data, the algorithm outputs an optimal hyperplane which categorizes new examples into positively diagnosed patients and negatively diagnosed patients. It finds the widest possible margin such that there might be points touching the boundary, these points are called the support vectors. SVM is also known as maximum margin classifier. SVM is a powerful binary classifier due to its ability to capture nonlinearity by projecting the data into a higher dimension using a kernel trick."
   ]
  },
  {
   "cell_type": "markdown",
   "metadata": {},
   "source": [
    "## Raw Data Algorithm Performance"
   ]
  },
  {
   "cell_type": "code",
   "execution_count": 5,
   "metadata": {
    "collapsed": false
   },
   "outputs": [
    {
     "name": "stdout",
     "output_type": "stream",
     "text": [
      "LR: 0.786453 (0.032037)\n",
      "LDA: 0.799474 (0.024706)\n",
      "KN: 0.839190 (0.031147)\n",
      "CART: 0.929060 (0.019129)\n",
      "NB: 0.706345 (0.027344)\n",
      "SVM: 0.809239 (0.029441)\n"
     ]
    }
   ],
   "source": [
    "num_folds=10\n",
    "seed=7\n",
    "scoring='accuracy'\n",
    "\n",
    "models=[]\n",
    "models.append(('LR', LogisticRegression()))\n",
    "models.append(('LDA', LinearDiscriminantAnalysis()))\n",
    "models.append(('KN', KNeighborsClassifier()))\n",
    "models.append(('CART', DecisionTreeClassifier()))\n",
    "models.append(('NB', GaussianNB()))\n",
    "models.append(('SVM', SVC()))\n",
    "\n",
    "results = []\n",
    "names = []\n",
    "\n",
    "for name, model in models:\n",
    "    kfold = KFold(n_splits=num_folds, random_state=seed)\n",
    "    cv_results = cross_val_score(model, X_train, y_train, cv=kfold, scoring='accuracy')\n",
    "    results.append(cv_results)\n",
    "    names.append(name)\n",
    "    print('%s: %f (%f)' % (name, cv_results.mean(), cv_results.std()))"
   ]
  },
  {
   "cell_type": "code",
   "execution_count": 6,
   "metadata": {
    "collapsed": false
   },
   "outputs": [
    {
     "data": {
      "image/png": "[encoded data removed]",
      "text/plain": [
       "<matplotlib.figure.Figure at 0x1034c1a20>"
      ]
     },
     "metadata": {},
     "output_type": "display_data"
    }
   ],
   "source": [
    "# Visualize comparisons with box plot\n",
    "\n",
    "fig = plt.figure()\n",
    "fig.suptitle('Algorithm Comparison')\n",
    "ax = fig.add_subplot(111)\n",
    "plt.boxplot(results)\n",
    "ax.set_xticklabels(names)\n",
    "plt.show()"
   ]
  },
  {
   "cell_type": "markdown",
   "metadata": {},
   "source": [
    "From the initial results it is not suprising the Naive Bayes Classifier had the poorest performance and that Logistic Regression and LDA had a similar performance. Looking at the results it appears that the differing distributions of the raw data could be impacting the performance of KNN which assumes a gaussian distribution. Let's scale the data and observe performance again."
   ]
  },
  {
   "cell_type": "markdown",
   "metadata": {},
   "source": [
    "## Scaled Algorithm Performance"
   ]
  },
  {
   "cell_type": "code",
   "execution_count": 7,
   "metadata": {
    "collapsed": false
   },
   "outputs": [
    {
     "name": "stdout",
     "output_type": "stream",
     "text": [
      "ScaledLR: 0.805331 (0.035087)\n",
      "ScaledLDA: 0.799474 (0.024706)\n",
      "ScaledKN: 0.922549 (0.013685)\n",
      "ScaledCART: 0.932939 (0.014315)\n",
      "ScaledNB: 0.686164 (0.030245)\n",
      "ScaledSVM: 0.792942 (0.031660)\n"
     ]
    }
   ],
   "source": [
    "# Standardize the dataset\n",
    "pipelines = []\n",
    "pipelines.append(('ScaledLR', Pipeline([('Scaler', StandardScaler()), ('LR', LogisticRegression())])))\n",
    "pipelines.append(('ScaledLDA', Pipeline([('Scaler', StandardScaler()), ('LDA', LinearDiscriminantAnalysis())])))\n",
    "pipelines.append(('ScaledKN', Pipeline([('Scaler', StandardScaler()), ('KN', KNeighborsClassifier())])))\n",
    "pipelines.append(('ScaledCART', Pipeline([('Scaler', StandardScaler()), ('CART', DecisionTreeClassifier())])))\n",
    "pipelines.append(('ScaledNB', Pipeline([('Scaler', StandardScaler()), ('NB', GaussianNB())])))\n",
    "pipelines.append(('ScaledSVM', Pipeline([('Scaler', StandardScaler()), ('SVM', SVC())])))\n",
    "\n",
    "scaled_results = []\n",
    "scaled_names = []\n",
    "\n",
    "for name, model in pipelines:\n",
    "    kfold = KFold(n_splits=num_folds, random_state=seed)\n",
    "    cv_results = cross_val_score(model, X_train, y_train, cv=kfold, scoring=scoring)\n",
    "    scaled_results.append(cv_results)\n",
    "    scaled_names.append(name)\n",
    "    print('%s: %f (%f)' % (name, cv_results.mean(), cv_results.std()))"
   ]
  },
  {
   "cell_type": "code",
   "execution_count": 8,
   "metadata": {
    "collapsed": false
   },
   "outputs": [
    {
     "data": {
      "image/png": "[encoded data removed]",
      "text/plain": [
       "<matplotlib.figure.Figure at 0x112da84e0>"
      ]
     },
     "metadata": {},
     "output_type": "display_data"
    }
   ],
   "source": [
    "# Compare Algorithms\n",
    "\n",
    "fig = plt.figure()\n",
    "fig.suptitle('Scaled Algorithm Comparison')\n",
    "ax = fig.add_subplot(111)\n",
    "plt.boxplot(scaled_results)\n",
    "ax.set_xticklabels(scaled_names)\n",
    "plt.show()"
   ]
  },
  {
   "cell_type": "markdown",
   "metadata": {},
   "source": [
    "As expected, the performance of KNN was greatly improved. It appears that KNN and our Decision Tree classifier were the top performers, let's see if we can tune the parameters of both to get optimize and see which performs the best. An obvious parameter to tune for KNN is the number of neighbors, the default used is 7. We will observe different values of k, avoiding even numbers to make sure there are no ties. For the decision tree we can observe what the optimal depth is for the tree and the minimum number of samples required to be at a leaf node."
   ]
  },
  {
   "cell_type": "markdown",
   "metadata": {},
   "source": [
    "## Tuning K-Nearest Neighbors"
   ]
  },
  {
   "cell_type": "code",
   "execution_count": 9,
   "metadata": {
    "collapsed": false
   },
   "outputs": [
    {
     "name": "stdout",
     "output_type": "stream",
     "text": [
      "Best: 0.942057 using {'n_neighbors': 1}\n",
      "0.942057 (0.021961) with: {'n_neighbors': 1}\n",
      "0.936198 (0.024091) with: {'n_neighbors': 3}\n",
      "0.923177 (0.015784) with: {'n_neighbors': 5}\n",
      "0.913411 (0.023434) with: {'n_neighbors': 7}\n",
      "0.904948 (0.022905) with: {'n_neighbors': 9}\n",
      "0.899089 (0.023290) with: {'n_neighbors': 11}\n",
      "0.903646 (0.023321) with: {'n_neighbors': 13}\n",
      "0.902344 (0.024620) with: {'n_neighbors': 15}\n",
      "0.898438 (0.027718) with: {'n_neighbors': 17}\n",
      "0.893229 (0.028330) with: {'n_neighbors': 19}\n",
      "0.889323 (0.033507) with: {'n_neighbors': 21}\n"
     ]
    }
   ],
   "source": [
    "scaler = StandardScaler().fit(X_train)\n",
    "rescaledX = scaler.transform(X_train)\n",
    "neighbors = [1,3,5,7,9,11,13,15,17,19,21]\n",
    "param_grid = dict(n_neighbors=neighbors)\n",
    "model=KNeighborsClassifier()\n",
    "kfold = KFold(n_splits=num_folds, random_state=seed)\n",
    "grid = GridSearchCV(estimator=model, param_grid=param_grid, scoring=scoring, cv=kfold)\n",
    "grid_result = grid.fit(rescaledX, y_train)\n",
    "print('Best: %f using %s' % (grid_result.best_score_, grid_result.best_params_))\n",
    "\n",
    "means = grid_result.cv_results_['mean_test_score']\n",
    "stds = grid_result.cv_results_['std_test_score']\n",
    "params = grid_result.cv_results_['params']\n",
    "for mean, std, param in zip(means, stds, params):\n",
    "    print('%f (%f) with: %r' % (mean, std, param))"
   ]
  },
  {
   "cell_type": "markdown",
   "metadata": {},
   "source": [
    "## Tune Decision Tree"
   ]
  },
  {
   "cell_type": "code",
   "execution_count": 10,
   "metadata": {
    "collapsed": false
   },
   "outputs": [
    {
     "name": "stdout",
     "output_type": "stream",
     "text": [
      "Best: 0.899089 using {'min_samples_leaf': 1, 'max_depth': 7}\n",
      "0.701823 (0.050696) with: {'min_samples_leaf': 1, 'max_depth': 1}\n",
      "0.701823 (0.050696) with: {'min_samples_leaf': 2, 'max_depth': 1}\n",
      "0.701823 (0.050696) with: {'min_samples_leaf': 3, 'max_depth': 1}\n",
      "0.701823 (0.050696) with: {'min_samples_leaf': 4, 'max_depth': 1}\n",
      "0.701823 (0.050696) with: {'min_samples_leaf': 5, 'max_depth': 1}\n",
      "0.701823 (0.050696) with: {'min_samples_leaf': 6, 'max_depth': 1}\n",
      "0.775391 (0.034203) with: {'min_samples_leaf': 1, 'max_depth': 2}\n",
      "0.775391 (0.034203) with: {'min_samples_leaf': 2, 'max_depth': 2}\n",
      "0.775391 (0.034203) with: {'min_samples_leaf': 3, 'max_depth': 2}\n",
      "0.775391 (0.034203) with: {'min_samples_leaf': 4, 'max_depth': 2}\n",
      "0.775391 (0.034203) with: {'min_samples_leaf': 5, 'max_depth': 2}\n",
      "0.775391 (0.034203) with: {'min_samples_leaf': 6, 'max_depth': 2}\n",
      "0.837240 (0.031339) with: {'min_samples_leaf': 1, 'max_depth': 3}\n",
      "0.837891 (0.031676) with: {'min_samples_leaf': 2, 'max_depth': 3}\n",
      "0.837240 (0.031339) with: {'min_samples_leaf': 3, 'max_depth': 3}\n",
      "0.837891 (0.031676) with: {'min_samples_leaf': 4, 'max_depth': 3}\n",
      "0.837891 (0.031676) with: {'min_samples_leaf': 5, 'max_depth': 3}\n",
      "0.837891 (0.031676) with: {'min_samples_leaf': 6, 'max_depth': 3}\n",
      "0.860677 (0.033165) with: {'min_samples_leaf': 1, 'max_depth': 4}\n",
      "0.860677 (0.033181) with: {'min_samples_leaf': 2, 'max_depth': 4}\n",
      "0.860677 (0.033547) with: {'min_samples_leaf': 3, 'max_depth': 4}\n",
      "0.860677 (0.033181) with: {'min_samples_leaf': 4, 'max_depth': 4}\n",
      "0.859375 (0.032782) with: {'min_samples_leaf': 5, 'max_depth': 4}\n",
      "0.858724 (0.032791) with: {'min_samples_leaf': 6, 'max_depth': 4}\n",
      "0.877604 (0.029303) with: {'min_samples_leaf': 1, 'max_depth': 5}\n",
      "0.878906 (0.029805) with: {'min_samples_leaf': 2, 'max_depth': 5}\n",
      "0.877604 (0.031129) with: {'min_samples_leaf': 3, 'max_depth': 5}\n",
      "0.878906 (0.029520) with: {'min_samples_leaf': 4, 'max_depth': 5}\n",
      "0.878255 (0.029491) with: {'min_samples_leaf': 5, 'max_depth': 5}\n",
      "0.876953 (0.031129) with: {'min_samples_leaf': 6, 'max_depth': 5}\n",
      "0.893229 (0.023504) with: {'min_samples_leaf': 1, 'max_depth': 6}\n",
      "0.891927 (0.025122) with: {'min_samples_leaf': 2, 'max_depth': 6}\n",
      "0.893229 (0.020820) with: {'min_samples_leaf': 3, 'max_depth': 6}\n",
      "0.892578 (0.020030) with: {'min_samples_leaf': 4, 'max_depth': 6}\n",
      "0.893880 (0.019088) with: {'min_samples_leaf': 5, 'max_depth': 6}\n",
      "0.889323 (0.021678) with: {'min_samples_leaf': 6, 'max_depth': 6}\n",
      "0.899089 (0.023568) with: {'min_samples_leaf': 1, 'max_depth': 7}\n",
      "0.899089 (0.026493) with: {'min_samples_leaf': 2, 'max_depth': 7}\n",
      "0.898438 (0.023170) with: {'min_samples_leaf': 3, 'max_depth': 7}\n",
      "0.897135 (0.021599) with: {'min_samples_leaf': 4, 'max_depth': 7}\n",
      "0.894531 (0.022021) with: {'min_samples_leaf': 5, 'max_depth': 7}\n",
      "0.894531 (0.024083) with: {'min_samples_leaf': 6, 'max_depth': 7}\n"
     ]
    }
   ],
   "source": [
    "parameters = {\"max_depth\": [1, 2, 3, 4, 5, 6, 7], 'min_samples_leaf': [1, 2, 3, 4, 5, 6]}\n",
    "model=DecisionTreeClassifier()\n",
    "kfold = KFold(n_splits=num_folds, random_state=seed)\n",
    "grid = GridSearchCV(estimator=model, param_grid=parameters, scoring=scoring, cv=kfold)\n",
    "grid_result = grid.fit(rescaledX, y_train)\n",
    "print('Best: %f using %s' % (grid_result.best_score_, grid_result.best_params_))\n",
    "\n",
    "means = grid_result.cv_results_['mean_test_score']\n",
    "stds = grid_result.cv_results_['std_test_score']\n",
    "params = grid_result.cv_results_['params']\n",
    "for mean, std, param in zip(means, stds, params):\n",
    "    print('%f (%f) with: %r' % (mean, std, param))"
   ]
  },
  {
   "cell_type": "markdown",
   "metadata": {},
   "source": [
    "K-Nearest neighbors appears to be the top performer out of the standard algorithms. Let's see if we can improve performance even further by incorporating ensemble methods."
   ]
  },
  {
   "cell_type": "markdown",
   "metadata": {},
   "source": [
    "## Ensemble Algorithms"
   ]
  },
  {
   "cell_type": "markdown",
   "metadata": {},
   "source": [
    "An ensemble is a supervised learning technique for combining multiple weak learners/ models to produce a much stronger model. The four algorithms I chose were AdaBoost classifier, Gradient Boosted Decision Tree, Random Forest, and Extremely Randomized Trees.\n",
    "\n",
    "The first two ensemble methods use an ensemble technique called boosting and the last two use an ensemble technique called bagging. Let's get into a description of each and then observe which form of ensemble will perform the best."
   ]
  },
  {
   "cell_type": "markdown",
   "metadata": {},
   "source": [
    "## AdaBoost"
   ]
  },
  {
   "cell_type": "markdown",
   "metadata": {},
   "source": [
    "AdaBoost is short for Adaptive Boosting. First you have some base classifier, like a Decision tree for example. \n",
    "\n",
    "First you assign to each of your n data points a weight of $w_i = 1/n$, then:\n",
    "\n",
    "1. fit that classifier (e.g. tree) on all your data, weighted by $w_i$\n",
    "2. test to see how well your classifier predicts your data\n",
    "3. data points that are miss-classified get a slightly higher weight\n",
    "\n",
    "In step 1, the way this weighting is done is by considering a weighted loss. This is some number that is large when $y_i$ is correctly classified and small otherwise.\n",
    "\n",
    "What this means is that every successive classifier (tree) puts more emphasis on classifying data points that the previous classifier missed. In this way each classifier can concentrate on a subset of the data."
   ]
  },
  {
   "cell_type": "markdown",
   "metadata": {},
   "source": [
    "## Gradient Boosted Decision Trees"
   ]
  },
  {
   "cell_type": "markdown",
   "metadata": {},
   "source": [
    "Gradient Boosted Decision Trees use the same theory as described in AdaBoost. The distinction lies in the weight assignment. When the loss is being calculated, the gradient of that loss is then used to update the weights as opposed to whether or not the prediction was correctly classified in Adaboost. It can be viewed as a more quantitative boosting method."
   ]
  },
  {
   "cell_type": "markdown",
   "metadata": {},
   "source": [
    "## Random Forest"
   ]
  },
  {
   "cell_type": "markdown",
   "metadata": {},
   "source": [
    "Random forest works by aggregating the results from several different randomly created decision trees constructed to explain the data.\n",
    "\n",
    "To perform this it uses a tool called bootstrap aggregation. To describe bootstrap let's first get into bagging. In tree bagging we do the following $b$ times:\n",
    "\n",
    "1. Take a random subsample of our data\n",
    "2. Build a classification tree \n",
    "3. repeat\n",
    "\n",
    "For a new data point we can then simply run that point through all the $b$ trees constructed, get all the decisions $\\hat{Y}_1,..., \\hat{Y}_b$ and take a majority vote. This form of averaging gets rid of some of the over-fitting issues found in just using one tree. However, fitting these trees costs a lot computationally and is not ideal if our dataset was much larger.\n",
    "\n",
    "This method is very similar to the bootstrap aggregation method. The variation is that the trees that are built from the random subsample of our data are quite similar. In Random Forests we do the following $b$ times:\n",
    "\n",
    "1. Take a random subsample of your data\n",
    "2. Select m variables at random out of all M possible variables (independently for each node).\n",
    "3. Find the best split on the selected m variables. Build out the entire tree.\n",
    "4. repeat"
   ]
  },
  {
   "cell_type": "markdown",
   "metadata": {},
   "source": [
    "## Extremely Randomized Trees"
   ]
  },
  {
   "cell_type": "markdown",
   "metadata": {},
   "source": [
    "As in random forests, a random subset of candidate features is used, but instead of looking for the best splits, splits are drawn at random for each candidate feature and the best of these randomly-generated thresholds is picked as the splitting rule. This allows to reduce the variance of the model a bit more, at the expense of a slightly greater increase in bias."
   ]
  },
  {
   "cell_type": "code",
   "execution_count": 13,
   "metadata": {
    "collapsed": false
   },
   "outputs": [
    {
     "name": "stdout",
     "output_type": "stream",
     "text": [
      "AB: 0.883461 (0.032829)\n",
      "GBM: 0.926407 (0.026135)\n",
      "RF: 0.941423 (0.021540)\n",
      "ET: 0.946639 (0.016857)\n"
     ]
    }
   ],
   "source": [
    "# ensemble methods - bagging and boosting\n",
    "# boosting - AdaBoost and GradientBoosting\n",
    "# bagging - Random Forests and Extra Trees\n",
    "\n",
    "ensembles = []\n",
    "ensembles.append(('AB', AdaBoostClassifier()))\n",
    "ensembles.append(('GBM', GradientBoostingClassifier()))\n",
    "ensembles.append(('RF', RandomForestClassifier()))\n",
    "ensembles.append(('ET', ExtraTreesClassifier()))\n",
    "\n",
    "ensemble_results = []\n",
    "ensemble_names = []\n",
    "\n",
    "for name, model in ensembles:\n",
    "    kfold = KFold(n_splits=num_folds, random_state=seed)\n",
    "    cv_results = cross_val_score(model, X_train, y_train, cv=kfold, scoring=scoring)\n",
    "    ensemble_results.append(cv_results)\n",
    "    ensemble_names.append(name)\n",
    "    print('%s: %f (%f)' % (name, cv_results.mean(), cv_results.std()))"
   ]
  },
  {
   "cell_type": "code",
   "execution_count": 14,
   "metadata": {
    "collapsed": false
   },
   "outputs": [
    {
     "data": {
      "image/png": "[encoded data removed]",
      "text/plain": [
       "<matplotlib.figure.Figure at 0x112f86630>"
      ]
     },
     "metadata": {},
     "output_type": "display_data"
    }
   ],
   "source": [
    "# bagging works better than boosting\n",
    "\n",
    "# Compare Algorithms\n",
    "fig = plt.figure()\n",
    "fig.suptitle('Ensemble Algorithm Comparison')\n",
    "ax = fig.add_subplot(111)\n",
    "plt.boxplot(ensemble_results)\n",
    "ax.set_xticklabels(ensemble_names)\n",
    "plt.show()"
   ]
  },
  {
   "cell_type": "markdown",
   "metadata": {},
   "source": [
    "Looking at our results it appears that the two bagging algorithms seem to outperform the boosting algorithms. Let's now evaluate our top performing model which seems to be Extremely Randomized Decision Trees."
   ]
  },
  {
   "cell_type": "markdown",
   "metadata": {},
   "source": [
    "# Performance Evaluation"
   ]
  },
  {
   "cell_type": "markdown",
   "metadata": {},
   "source": [
    "The two performance metrics that I chose to evaluate the performance of our model are the confusion matrix and precision recall. These two are commonly used in classification problems."
   ]
  },
  {
   "cell_type": "markdown",
   "metadata": {},
   "source": [
    "## Confusion Matrix"
   ]
  },
  {
   "cell_type": "markdown",
   "metadata": {},
   "source": [
    "In a confusion matrix each row of the matrix represents the instances in a predicted class while each column represents the instances in an actual class. In the context of this problem a true positive represents a patient that was labeled positive and also being diagnosed as positive for Parkinsons's Disease. A true negative represents a patient that was labeled negative and was diagnosed as negative. A false positive represents a patient that was labeled positive but was diagnosed as negative, and a false negative represents a patient that was labeled negative but was diagnosed as positive."
   ]
  },
  {
   "cell_type": "markdown",
   "metadata": {},
   "source": [
    "## Precision Recall "
   ]
  },
  {
   "cell_type": "markdown",
   "metadata": {},
   "source": [
    "The recall (also the true positive rate) is the ratio of true positive guesses among all positives:\n",
    "$$\\text{recall} = \\frac{TP}{P}=\\frac{TP}{TP+FN}.$$\n",
    "The precision is the ratio of the true positive guesses over all the positive guesses:\n",
    "$$\\text{precision} = \\frac{TP}{TP+FP}.$$\n",
    "Because precision and recall both provide valuable information about the quality of a classifier, we want to combine them into a single score. The F1 score is defined as the harmonic mean of recall and precision:\n",
    "$$F_1 = \\frac{2\\times\\text{recall}\\times\\text{precision}}{\\text{recall} + \\text{precision}}.$$\n",
    "\n",
    "The harmonic mean of two numbers is closer to the smaller of the two numbers than the standard arithmetic mean. The F1 score tends to favor classifiers that are strong in both precision and recall, rather than classifiers that emphasize one at the cost of the other."
   ]
  },
  {
   "cell_type": "code",
   "execution_count": 21,
   "metadata": {
    "collapsed": false
   },
   "outputs": [
    {
     "name": "stdout",
     "output_type": "stream",
     "text": [
      "0.940104166667\n",
      "[[ 98  10]\n",
      " [ 13 263]]\n",
      "             precision    recall  f1-score   support\n",
      "\n",
      "          0       0.88      0.91      0.89       108\n",
      "          1       0.96      0.95      0.96       276\n",
      "\n",
      "avg / total       0.94      0.94      0.94       384\n",
      "\n"
     ]
    }
   ],
   "source": [
    "# prepare model\n",
    "\n",
    "scaler = StandardScaler().fit(X_train)\n",
    "rescaledX = scaler.transform(X_train)\n",
    "model = ExtraTreesClassifier()\n",
    "model.fit(rescaledX, y_train)\n",
    "\n",
    "# estimate accuracy on test set\n",
    "\n",
    "rescaledTestX = scaler.transform(X_test)\n",
    "predictions = model.predict(rescaledTestX)\n",
    "print(accuracy_score(y_test, predictions))\n",
    "print(confusion_matrix(y_test, predictions))\n",
    "print(classification_report(y_test, predictions))"
   ]
  },
  {
   "cell_type": "markdown",
   "metadata": {},
   "source": [
    "## Further Feature Selection"
   ]
  },
  {
   "cell_type": "markdown",
   "metadata": {},
   "source": [
    "We observe a 94% test accuracy with our best model. Remembering the class imbalance that we had where 68% of our patients in the data labeled as true the improvement is decent. However can be possibly improve our prediction performance by only using the top 10 important features from our axis acceleration data?\n",
    "\n",
    "We can observe this by using the feature_importances attribute from scikit-learn's ExtraTreeClassifier class. We will select the top 10 features and repeat the above protocol to see if we can further improve upon 94% accuracy."
   ]
  },
  {
   "cell_type": "code",
   "execution_count": 22,
   "metadata": {
    "collapsed": false
   },
   "outputs": [
    {
     "data": {
      "image/png": "[encoded data removed]",
      "text/plain": [
       "<matplotlib.figure.Figure at 0x102999a20>"
      ]
     },
     "metadata": {},
     "output_type": "display_data"
    }
   ],
   "source": [
    "features = [col for col in df.columns if col != 'professional-diagnosis']\n",
    "y_pos = np.arange(len(features))\n",
    "\n",
    "plt.barh(y_pos, model.feature_importances_, align='center', alpha=0.4)\n",
    "plt.yticks(y_pos, features)\n",
    "plt.title('Feature Importance')\n",
    "\n",
    "plt.show()"
   ]
  },
  {
   "cell_type": "code",
   "execution_count": 23,
   "metadata": {
    "collapsed": false
   },
   "outputs": [
    {
     "name": "stderr",
     "output_type": "stream",
     "text": [
      "//anaconda/lib/python3.5/site-packages/ipykernel/__main__.py:4: SettingWithCopyWarning: \n",
      "A value is trying to be set on a copy of a slice from a DataFrame.\n",
      "Try using .loc[row_indexer,col_indexer] = value instead\n",
      "\n",
      "See the caveats in the documentation: http://pandas.pydata.org/pandas-docs/stable/indexing.html#indexing-view-versus-copy\n"
     ]
    }
   ],
   "source": [
    "feature_importances = dict(zip(features, model.feature_importances_))\n",
    "top_10_features = sorted(feature_importances, key=feature_importances.get, reverse=True)[:10]\n",
    "top_10_feature_df = df.ix[:,df.columns.isin(top_10_features)]\n",
    "top_10_feature_df['professional-diagnosis'] = df['professional-diagnosis']"
   ]
  },
  {
   "cell_type": "code",
   "execution_count": 24,
   "metadata": {
    "collapsed": false
   },
   "outputs": [
    {
     "data": {
      "text/html": [
       "<div>\n",
       "<table border=\"1\" class=\"dataframe\">\n",
       "  <thead>\n",
       "    <tr style=\"text-align: right;\">\n",
       "      <th></th>\n",
       "      <th>stdXaccel</th>\n",
       "      <th>skewXaccel</th>\n",
       "      <th>kurtXaccel</th>\n",
       "      <th>medianYaccel</th>\n",
       "      <th>stdYaccel</th>\n",
       "      <th>skewYaccel</th>\n",
       "      <th>kurtYaccel</th>\n",
       "      <th>variationYaccel</th>\n",
       "      <th>stdZaccel</th>\n",
       "      <th>kurtZaccel</th>\n",
       "      <th>professional-diagnosis</th>\n",
       "    </tr>\n",
       "  </thead>\n",
       "  <tbody>\n",
       "    <tr>\n",
       "      <th>0</th>\n",
       "      <td>0.251105</td>\n",
       "      <td>-0.438470</td>\n",
       "      <td>0.141505</td>\n",
       "      <td>0.021201</td>\n",
       "      <td>0.315285</td>\n",
       "      <td>0.319682</td>\n",
       "      <td>-0.210016</td>\n",
       "      <td>6.525710</td>\n",
       "      <td>0.475797</td>\n",
       "      <td>0.544279</td>\n",
       "      <td>False</td>\n",
       "    </tr>\n",
       "    <tr>\n",
       "      <th>1</th>\n",
       "      <td>0.205124</td>\n",
       "      <td>-0.854834</td>\n",
       "      <td>1.367009</td>\n",
       "      <td>0.029125</td>\n",
       "      <td>0.267536</td>\n",
       "      <td>0.547424</td>\n",
       "      <td>1.101485</td>\n",
       "      <td>5.276845</td>\n",
       "      <td>0.388474</td>\n",
       "      <td>0.936114</td>\n",
       "      <td>False</td>\n",
       "    </tr>\n",
       "    <tr>\n",
       "      <th>2</th>\n",
       "      <td>0.206104</td>\n",
       "      <td>-0.969447</td>\n",
       "      <td>4.550264</td>\n",
       "      <td>0.020974</td>\n",
       "      <td>0.230869</td>\n",
       "      <td>0.571332</td>\n",
       "      <td>2.337877</td>\n",
       "      <td>4.846593</td>\n",
       "      <td>0.420515</td>\n",
       "      <td>7.715927</td>\n",
       "      <td>False</td>\n",
       "    </tr>\n",
       "    <tr>\n",
       "      <th>3</th>\n",
       "      <td>0.192878</td>\n",
       "      <td>-0.936322</td>\n",
       "      <td>4.949377</td>\n",
       "      <td>0.024706</td>\n",
       "      <td>0.226478</td>\n",
       "      <td>0.709988</td>\n",
       "      <td>2.618261</td>\n",
       "      <td>3.992016</td>\n",
       "      <td>0.425813</td>\n",
       "      <td>7.632989</td>\n",
       "      <td>False</td>\n",
       "    </tr>\n",
       "    <tr>\n",
       "      <th>4</th>\n",
       "      <td>0.198090</td>\n",
       "      <td>-0.664648</td>\n",
       "      <td>4.381479</td>\n",
       "      <td>0.019794</td>\n",
       "      <td>0.246758</td>\n",
       "      <td>0.681993</td>\n",
       "      <td>3.859799</td>\n",
       "      <td>5.130650</td>\n",
       "      <td>0.396042</td>\n",
       "      <td>9.065509</td>\n",
       "      <td>False</td>\n",
       "    </tr>\n",
       "  </tbody>\n",
       "</table>\n",
       "</div>"
      ],
      "text/plain": [
       "   stdXaccel  skewXaccel  kurtXaccel  medianYaccel  stdYaccel  skewYaccel  \\\n",
       "0   0.251105   -0.438470    0.141505      0.021201   0.315285    0.319682   \n",
       "1   0.205124   -0.854834    1.367009      0.029125   0.267536    0.547424   \n",
       "2   0.206104   -0.969447    4.550264      0.020974   0.230869    0.571332   \n",
       "3   0.192878   -0.936322    4.949377      0.024706   0.226478    0.709988   \n",
       "4   0.198090   -0.664648    4.381479      0.019794   0.246758    0.681993   \n",
       "\n",
       "   kurtYaccel  variationYaccel  stdZaccel  kurtZaccel professional-diagnosis  \n",
       "0   -0.210016         6.525710   0.475797    0.544279                  False  \n",
       "1    1.101485         5.276845   0.388474    0.936114                  False  \n",
       "2    2.337877         4.846593   0.420515    7.715927                  False  \n",
       "3    2.618261         3.992016   0.425813    7.632989                  False  \n",
       "4    3.859799         5.130650   0.396042    9.065509                  False  "
      ]
     },
     "execution_count": 24,
     "metadata": {},
     "output_type": "execute_result"
    }
   ],
   "source": [
    "top_10_feature_df.head()"
   ]
  },
  {
   "cell_type": "code",
   "execution_count": 25,
   "metadata": {
    "collapsed": false
   },
   "outputs": [
    {
     "data": {
      "text/plain": [
       "(1920, 11)"
      ]
     },
     "execution_count": 25,
     "metadata": {},
     "output_type": "execute_result"
    }
   ],
   "source": [
    "top_10_feature_df.shape"
   ]
  },
  {
   "cell_type": "code",
   "execution_count": 26,
   "metadata": {
    "collapsed": true
   },
   "outputs": [],
   "source": [
    "array = top_10_feature_df.values\n",
    "\n",
    "X = array[:,0:10].astype(float)\n",
    "y = array[:,10].astype(int)\n",
    "\n",
    "X_train, X_test, y_train, y_test = train_test_split(X, y, test_size=0.2, random_state=7)"
   ]
  },
  {
   "cell_type": "code",
   "execution_count": 27,
   "metadata": {
    "collapsed": false
   },
   "outputs": [
    {
     "name": "stdout",
     "output_type": "stream",
     "text": [
      "LR: 0.744763 (0.037703)\n",
      "LDA: 0.798824 (0.033465)\n",
      "KN: 0.929043 (0.017059)\n",
      "CART: 0.938172 (0.019572)\n",
      "NB: 0.695272 (0.035080)\n",
      "SVM: 0.835905 (0.032336)\n"
     ]
    }
   ],
   "source": [
    "num_folds=10\n",
    "seed=7\n",
    "scoring='accuracy'\n",
    "\n",
    "models=[]\n",
    "models.append(('LR', LogisticRegression()))\n",
    "models.append(('LDA', LinearDiscriminantAnalysis()))\n",
    "models.append(('KN', KNeighborsClassifier()))\n",
    "models.append(('CART', DecisionTreeClassifier()))\n",
    "models.append(('NB', GaussianNB()))\n",
    "models.append(('SVM', SVC()))\n",
    "\n",
    "results = []\n",
    "names = []\n",
    "\n",
    "for name, model in models:\n",
    "    kfold = KFold(n_splits=num_folds, random_state=seed)\n",
    "    cv_results = cross_val_score(model, X_train, y_train, cv=kfold, scoring='accuracy')\n",
    "    results.append(cv_results)\n",
    "    names.append(name)\n",
    "    print('%s: %f (%f)' % (name, cv_results.mean(), cv_results.std()))"
   ]
  },
  {
   "cell_type": "markdown",
   "metadata": {},
   "source": [
    "It appears that selecting the top 10 features was able to remove the noisiest features, most likely the features that had erratic distributions. As we can see here the performance of K-Nearest Neighbors on unscaled data has vastly improved."
   ]
  },
  {
   "cell_type": "code",
   "execution_count": 23,
   "metadata": {
    "collapsed": false
   },
   "outputs": [
    {
     "data": {
      "image/png": "[encoded data removed]",
      "text/plain": [
       "<matplotlib.figure.Figure at 0x111d28358>"
      ]
     },
     "metadata": {},
     "output_type": "display_data"
    }
   ],
   "source": [
    "# Visualize comparisons with box plot\n",
    "\n",
    "fig = plt.figure()\n",
    "fig.suptitle('Algorithm Comparison Post Feature Extraction')\n",
    "ax = fig.add_subplot(111)\n",
    "plt.boxplot(results)\n",
    "ax.set_xticklabels(names)\n",
    "plt.show()"
   ]
  },
  {
   "cell_type": "code",
   "execution_count": 28,
   "metadata": {
    "collapsed": false
   },
   "outputs": [
    {
     "name": "stdout",
     "output_type": "stream",
     "text": [
      "ScaledLR: 0.773432 (0.030183)\n",
      "ScaledLDA: 0.798824 (0.033465)\n",
      "ScaledKN: 0.929696 (0.016905)\n",
      "ScaledCART: 0.942730 (0.018580)\n",
      "ScaledNB: 0.695272 (0.035080)\n",
      "ScaledSVM: 0.793613 (0.030197)\n"
     ]
    }
   ],
   "source": [
    "pipelines = []\n",
    "pipelines.append(('ScaledLR', Pipeline([('Scaler', StandardScaler()), ('LR', LogisticRegression())])))\n",
    "pipelines.append(('ScaledLDA', Pipeline([('Scaler', StandardScaler()), ('LDA', LinearDiscriminantAnalysis())])))\n",
    "pipelines.append(('ScaledKN', Pipeline([('Scaler', StandardScaler()), ('KN', KNeighborsClassifier())])))\n",
    "pipelines.append(('ScaledCART', Pipeline([('Scaler', StandardScaler()), ('CART', DecisionTreeClassifier())])))\n",
    "pipelines.append(('ScaledNB', Pipeline([('Scaler', StandardScaler()), ('NB', GaussianNB())])))\n",
    "pipelines.append(('ScaledSVM', Pipeline([('Scaler', StandardScaler()), ('SVM', SVC())])))\n",
    "\n",
    "scaled_results = []\n",
    "scaled_names = []\n",
    "\n",
    "for name, model in pipelines:\n",
    "    kfold = KFold(n_splits=num_folds, random_state=seed)\n",
    "    cv_results = cross_val_score(model, X_train, y_train, cv=kfold, scoring=scoring)\n",
    "    scaled_results.append(cv_results)\n",
    "    scaled_names.append(name)\n",
    "    print('%s: %f (%f)' % (name, cv_results.mean(), cv_results.std()))"
   ]
  },
  {
   "cell_type": "code",
   "execution_count": 25,
   "metadata": {
    "collapsed": false
   },
   "outputs": [
    {
     "data": {
      "image/png": "[encoded data removed]",
      "text/plain": [
       "<matplotlib.figure.Figure at 0x111fb9978>"
      ]
     },
     "metadata": {},
     "output_type": "display_data"
    }
   ],
   "source": [
    "fig = plt.figure()\n",
    "fig.suptitle('Scaled Algorithm Comparison Post Feature Extraction')\n",
    "ax = fig.add_subplot(111)\n",
    "plt.boxplot(scaled_results)\n",
    "ax.set_xticklabels(scaled_names)\n",
    "plt.show()"
   ]
  },
  {
   "cell_type": "code",
   "execution_count": 29,
   "metadata": {
    "collapsed": false
   },
   "outputs": [
    {
     "name": "stdout",
     "output_type": "stream",
     "text": [
      "AB: 0.889954 (0.029364)\n",
      "GBM: 0.934891 (0.021227)\n",
      "RF: 0.944661 (0.025789)\n",
      "ET: 0.941435 (0.022864)\n"
     ]
    }
   ],
   "source": [
    "ensembles = []\n",
    "ensembles.append(('AB', AdaBoostClassifier()))\n",
    "ensembles.append(('GBM', GradientBoostingClassifier()))\n",
    "ensembles.append(('RF', RandomForestClassifier()))\n",
    "ensembles.append(('ET', ExtraTreesClassifier()))\n",
    "\n",
    "ensemble_results = []\n",
    "ensemble_names = []\n",
    "\n",
    "for name, model in ensembles:\n",
    "    kfold = KFold(n_splits=num_folds, random_state=seed)\n",
    "    cv_results = cross_val_score(model, X_train, y_train, cv=kfold, scoring=scoring)\n",
    "    ensemble_results.append(cv_results)\n",
    "    ensemble_names.append(name)\n",
    "    print('%s: %f (%f)' % (name, cv_results.mean(), cv_results.std()))"
   ]
  },
  {
   "cell_type": "code",
   "execution_count": 30,
   "metadata": {
    "collapsed": false
   },
   "outputs": [
    {
     "data": {
      "image/png": "[encoded data removed]",
      "text/plain": [
       "<matplotlib.figure.Figure at 0x113992c50>"
      ]
     },
     "metadata": {},
     "output_type": "display_data"
    }
   ],
   "source": [
    "fig = plt.figure()\n",
    "fig.suptitle('Ensemble Algorithm Comparison Post Feature Extraction')\n",
    "ax = fig.add_subplot(111)\n",
    "plt.boxplot(ensemble_results)\n",
    "ax.set_xticklabels(ensemble_names)\n",
    "plt.show()"
   ]
  },
  {
   "cell_type": "markdown",
   "metadata": {},
   "source": [
    "After repeating the procedure with the top 10 selected features, Random Forest was marginally improved to be our top performing model in our training data. Let's see if that translates to success in test data prediction."
   ]
  },
  {
   "cell_type": "code",
   "execution_count": 31,
   "metadata": {
    "collapsed": false
   },
   "outputs": [
    {
     "name": "stdout",
     "output_type": "stream",
     "text": [
      "0.921875\n",
      "[[ 95  13]\n",
      " [ 17 259]]\n",
      "             precision    recall  f1-score   support\n",
      "\n",
      "          0       0.85      0.88      0.86       108\n",
      "          1       0.95      0.94      0.95       276\n",
      "\n",
      "avg / total       0.92      0.92      0.92       384\n",
      "\n"
     ]
    }
   ],
   "source": [
    "# prepare model\n",
    "\n",
    "scaler = StandardScaler().fit(X_train)\n",
    "rescaledX = scaler.transform(X_train)\n",
    "model = RandomForestClassifier()\n",
    "model.fit(rescaledX, y_train)\n",
    "\n",
    "# estimate accuracy on test set\n",
    "\n",
    "rescaledTestX = scaler.transform(X_test)\n",
    "predictions = model.predict(rescaledTestX)\n",
    "print(accuracy_score(y_test, predictions))\n",
    "print(confusion_matrix(y_test, predictions))\n",
    "print(classification_report(y_test, predictions))"
   ]
  },
  {
   "cell_type": "markdown",
   "metadata": {
    "collapsed": true
   },
   "source": [
    "## Conclusion and Future Directions"
   ]
  },
  {
   "cell_type": "markdown",
   "metadata": {
    "collapsed": true
   },
   "source": [
    "In conclusion, the best test accuracy that we were able to obtain was 94% using the Extremely Randomized Tree Classifier.\n",
    "\n",
    "We provided a framework to predict the diagnosis of Parkinson's Disease off of raw walking data that was obtained from the use of patient's accelerometers. This framework appears to work decent at a reasonably small scale of 1920 instances. The next step would be to apply this to the entirety of the data which accounts for about 36,000 patients and will definitely impact the speed of some algorithms that do not scale particularly well such as K-Nearest Neighbors. I intend to download the entirety of the patient data and use this framework to see if the same success can be maintained at a larger scale."
   ]
  },
  {
   "cell_type": "code",
   "execution_count": null,
   "metadata": {
    "collapsed": true
   },
   "outputs": [],
   "source": []
  }
 ],
 "metadata": {
  "anaconda-cloud": {},
  "kernelspec": {
   "display_name": "Python [conda root]",
   "language": "python",
   "name": "conda-root-py"
  },
  "language_info": {
   "codemirror_mode": {
    "name": "ipython",
    "version": 3
   },
   "file_extension": ".py",
   "mimetype": "text/x-python",
   "name": "python",
   "nbconvert_exporter": "python",
   "pygments_lexer": "ipython3",
   "version": "3.5.2"
  }
 },
 "nbformat": 4,
 "nbformat_minor": 2
}
