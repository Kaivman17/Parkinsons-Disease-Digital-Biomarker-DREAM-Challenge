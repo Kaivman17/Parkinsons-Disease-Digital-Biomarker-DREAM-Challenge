{
 "cells": [
  {
   "cell_type": "markdown",
   "metadata": {},
   "source": [
    "# Exploratory Analysis"
   ]
  },
  {
   "cell_type": "markdown",
   "metadata": {},
   "source": [
    "Goals for the Exploratory Analysis:\n",
    "\n",
    "-  Deal with missing diagnoses\n",
    "-  Observe the age and gender splits\n",
    "-  Observe target class distribution\n",
    "-  Visualize distribution of the features\n",
    "-  Observe correlation of features"
   ]
  },
  {
   "cell_type": "code",
   "execution_count": 1,
   "metadata": {
    "collapsed": true
   },
   "outputs": [],
   "source": [
    "import pandas as pd\n",
    "import numpy as np\n",
    "import matplotlib.pyplot as plt\n",
    "import seaborn as sb"
   ]
  },
  {
   "cell_type": "code",
   "execution_count": 2,
   "metadata": {
    "collapsed": false
   },
   "outputs": [],
   "source": [
    "df = pd.read_csv('final_df.csv')"
   ]
  },
  {
   "cell_type": "code",
   "execution_count": 3,
   "metadata": {
    "collapsed": false
   },
   "outputs": [
    {
     "data": {
      "text/html": [
       "<div>\n",
       "<table border=\"1\" class=\"dataframe\">\n",
       "  <thead>\n",
       "    <tr style=\"text-align: right;\">\n",
       "      <th></th>\n",
       "      <th>Unnamed: 0</th>\n",
       "      <th>recordId</th>\n",
       "      <th>healthCode</th>\n",
       "      <th>age</th>\n",
       "      <th>gender</th>\n",
       "      <th>meanXaccel</th>\n",
       "      <th>medianXaccel</th>\n",
       "      <th>stdXaccel</th>\n",
       "      <th>skewXaccel</th>\n",
       "      <th>kurtXaccel</th>\n",
       "      <th>...</th>\n",
       "      <th>rangeYaccel</th>\n",
       "      <th>variationYaccel</th>\n",
       "      <th>meanZaccel</th>\n",
       "      <th>medianZaccel</th>\n",
       "      <th>stdZaccel</th>\n",
       "      <th>skewZaccel</th>\n",
       "      <th>kurtZaccel</th>\n",
       "      <th>rangeZaccel</th>\n",
       "      <th>variationZaccel</th>\n",
       "      <th>professional-diagnosis</th>\n",
       "    </tr>\n",
       "  </thead>\n",
       "  <tbody>\n",
       "    <tr>\n",
       "      <th>0</th>\n",
       "      <td>0</td>\n",
       "      <td>a3e54d84-360e-4e8a-9534-de188d5fa9e1</td>\n",
       "      <td>000240d1-1110-4dd2-a2d0-e344c37efd68</td>\n",
       "      <td>33.0</td>\n",
       "      <td>Male</td>\n",
       "      <td>-0.060817</td>\n",
       "      <td>-0.039582</td>\n",
       "      <td>0.251105</td>\n",
       "      <td>-0.438470</td>\n",
       "      <td>0.141505</td>\n",
       "      <td>...</td>\n",
       "      <td>1.895134</td>\n",
       "      <td>6.525710</td>\n",
       "      <td>-0.104390</td>\n",
       "      <td>-0.152150</td>\n",
       "      <td>0.475797</td>\n",
       "      <td>0.726143</td>\n",
       "      <td>0.544279</td>\n",
       "      <td>3.060726</td>\n",
       "      <td>-4.557892</td>\n",
       "      <td>False</td>\n",
       "    </tr>\n",
       "    <tr>\n",
       "      <th>1</th>\n",
       "      <td>1</td>\n",
       "      <td>27d5ffdd-536e-4f2d-b478-74bbd520e9f7</td>\n",
       "      <td>00081bd9-9abd-4003-b035-de6cc3e8c922</td>\n",
       "      <td>70.0</td>\n",
       "      <td>Male</td>\n",
       "      <td>-0.015293</td>\n",
       "      <td>0.019290</td>\n",
       "      <td>0.205124</td>\n",
       "      <td>-0.854834</td>\n",
       "      <td>1.367009</td>\n",
       "      <td>...</td>\n",
       "      <td>1.910760</td>\n",
       "      <td>5.276845</td>\n",
       "      <td>-0.009990</td>\n",
       "      <td>0.011845</td>\n",
       "      <td>0.388474</td>\n",
       "      <td>0.143198</td>\n",
       "      <td>0.936114</td>\n",
       "      <td>3.061306</td>\n",
       "      <td>-38.884676</td>\n",
       "      <td>False</td>\n",
       "    </tr>\n",
       "    <tr>\n",
       "      <th>2</th>\n",
       "      <td>2</td>\n",
       "      <td>cdd76ffc-9607-4106-b806-2fa29ad282f4</td>\n",
       "      <td>00372eda-3796-481b-96f7-f37e8e600904</td>\n",
       "      <td>NaN</td>\n",
       "      <td>Female</td>\n",
       "      <td>0.013353</td>\n",
       "      <td>0.023553</td>\n",
       "      <td>0.206104</td>\n",
       "      <td>-0.969447</td>\n",
       "      <td>4.550264</td>\n",
       "      <td>...</td>\n",
       "      <td>2.653296</td>\n",
       "      <td>4.846593</td>\n",
       "      <td>-0.098005</td>\n",
       "      <td>-0.091900</td>\n",
       "      <td>0.420515</td>\n",
       "      <td>-1.091197</td>\n",
       "      <td>7.715927</td>\n",
       "      <td>5.277242</td>\n",
       "      <td>-4.290775</td>\n",
       "      <td>False</td>\n",
       "    </tr>\n",
       "    <tr>\n",
       "      <th>3</th>\n",
       "      <td>3</td>\n",
       "      <td>ba735eb0-0639-4392-8d4d-f87b06c7b7e6</td>\n",
       "      <td>00372eda-3796-481b-96f7-f37e8e600904</td>\n",
       "      <td>NaN</td>\n",
       "      <td>Female</td>\n",
       "      <td>0.016124</td>\n",
       "      <td>0.023198</td>\n",
       "      <td>0.192878</td>\n",
       "      <td>-0.936322</td>\n",
       "      <td>4.949377</td>\n",
       "      <td>...</td>\n",
       "      <td>2.653296</td>\n",
       "      <td>3.992016</td>\n",
       "      <td>-0.068101</td>\n",
       "      <td>-0.036225</td>\n",
       "      <td>0.425813</td>\n",
       "      <td>-1.372953</td>\n",
       "      <td>7.632989</td>\n",
       "      <td>5.277242</td>\n",
       "      <td>-6.252671</td>\n",
       "      <td>False</td>\n",
       "    </tr>\n",
       "    <tr>\n",
       "      <th>4</th>\n",
       "      <td>4</td>\n",
       "      <td>2344a520-81df-4166-9f63-09343c502a21</td>\n",
       "      <td>00372eda-3796-481b-96f7-f37e8e600904</td>\n",
       "      <td>NaN</td>\n",
       "      <td>Female</td>\n",
       "      <td>0.013815</td>\n",
       "      <td>0.019293</td>\n",
       "      <td>0.198090</td>\n",
       "      <td>-0.664648</td>\n",
       "      <td>4.381479</td>\n",
       "      <td>...</td>\n",
       "      <td>3.030658</td>\n",
       "      <td>5.130650</td>\n",
       "      <td>-0.057569</td>\n",
       "      <td>-0.030008</td>\n",
       "      <td>0.396042</td>\n",
       "      <td>-1.491347</td>\n",
       "      <td>9.065509</td>\n",
       "      <td>5.277242</td>\n",
       "      <td>-6.879401</td>\n",
       "      <td>False</td>\n",
       "    </tr>\n",
       "  </tbody>\n",
       "</table>\n",
       "<p>5 rows × 27 columns</p>\n",
       "</div>"
      ],
      "text/plain": [
       "   Unnamed: 0                              recordId  \\\n",
       "0           0  a3e54d84-360e-4e8a-9534-de188d5fa9e1   \n",
       "1           1  27d5ffdd-536e-4f2d-b478-74bbd520e9f7   \n",
       "2           2  cdd76ffc-9607-4106-b806-2fa29ad282f4   \n",
       "3           3  ba735eb0-0639-4392-8d4d-f87b06c7b7e6   \n",
       "4           4  2344a520-81df-4166-9f63-09343c502a21   \n",
       "\n",
       "                             healthCode   age  gender  meanXaccel  \\\n",
       "0  000240d1-1110-4dd2-a2d0-e344c37efd68  33.0    Male   -0.060817   \n",
       "1  00081bd9-9abd-4003-b035-de6cc3e8c922  70.0    Male   -0.015293   \n",
       "2  00372eda-3796-481b-96f7-f37e8e600904   NaN  Female    0.013353   \n",
       "3  00372eda-3796-481b-96f7-f37e8e600904   NaN  Female    0.016124   \n",
       "4  00372eda-3796-481b-96f7-f37e8e600904   NaN  Female    0.013815   \n",
       "\n",
       "   medianXaccel  stdXaccel  skewXaccel  kurtXaccel           ...            \\\n",
       "0     -0.039582   0.251105   -0.438470    0.141505           ...             \n",
       "1      0.019290   0.205124   -0.854834    1.367009           ...             \n",
       "2      0.023553   0.206104   -0.969447    4.550264           ...             \n",
       "3      0.023198   0.192878   -0.936322    4.949377           ...             \n",
       "4      0.019293   0.198090   -0.664648    4.381479           ...             \n",
       "\n",
       "   rangeYaccel  variationYaccel  meanZaccel  medianZaccel  stdZaccel  \\\n",
       "0     1.895134         6.525710   -0.104390     -0.152150   0.475797   \n",
       "1     1.910760         5.276845   -0.009990      0.011845   0.388474   \n",
       "2     2.653296         4.846593   -0.098005     -0.091900   0.420515   \n",
       "3     2.653296         3.992016   -0.068101     -0.036225   0.425813   \n",
       "4     3.030658         5.130650   -0.057569     -0.030008   0.396042   \n",
       "\n",
       "   skewZaccel  kurtZaccel  rangeZaccel  variationZaccel  \\\n",
       "0    0.726143    0.544279     3.060726        -4.557892   \n",
       "1    0.143198    0.936114     3.061306       -38.884676   \n",
       "2   -1.091197    7.715927     5.277242        -4.290775   \n",
       "3   -1.372953    7.632989     5.277242        -6.252671   \n",
       "4   -1.491347    9.065509     5.277242        -6.879401   \n",
       "\n",
       "   professional-diagnosis  \n",
       "0                   False  \n",
       "1                   False  \n",
       "2                   False  \n",
       "3                   False  \n",
       "4                   False  \n",
       "\n",
       "[5 rows x 27 columns]"
      ]
     },
     "execution_count": 3,
     "metadata": {},
     "output_type": "execute_result"
    }
   ],
   "source": [
    "df.head()"
   ]
  },
  {
   "cell_type": "code",
   "execution_count": 4,
   "metadata": {
    "collapsed": false
   },
   "outputs": [],
   "source": [
    "df = df.drop('Unnamed: 0', axis=1)"
   ]
  },
  {
   "cell_type": "code",
   "execution_count": 5,
   "metadata": {
    "collapsed": false
   },
   "outputs": [
    {
     "data": {
      "text/html": [
       "<div>\n",
       "<table border=\"1\" class=\"dataframe\">\n",
       "  <thead>\n",
       "    <tr style=\"text-align: right;\">\n",
       "      <th></th>\n",
       "      <th>recordId</th>\n",
       "      <th>healthCode</th>\n",
       "      <th>age</th>\n",
       "      <th>gender</th>\n",
       "      <th>meanXaccel</th>\n",
       "      <th>medianXaccel</th>\n",
       "      <th>stdXaccel</th>\n",
       "      <th>skewXaccel</th>\n",
       "      <th>kurtXaccel</th>\n",
       "      <th>rangeXaccel</th>\n",
       "      <th>...</th>\n",
       "      <th>rangeYaccel</th>\n",
       "      <th>variationYaccel</th>\n",
       "      <th>meanZaccel</th>\n",
       "      <th>medianZaccel</th>\n",
       "      <th>stdZaccel</th>\n",
       "      <th>skewZaccel</th>\n",
       "      <th>kurtZaccel</th>\n",
       "      <th>rangeZaccel</th>\n",
       "      <th>variationZaccel</th>\n",
       "      <th>professional-diagnosis</th>\n",
       "    </tr>\n",
       "  </thead>\n",
       "  <tbody>\n",
       "    <tr>\n",
       "      <th>0</th>\n",
       "      <td>a3e54d84-360e-4e8a-9534-de188d5fa9e1</td>\n",
       "      <td>000240d1-1110-4dd2-a2d0-e344c37efd68</td>\n",
       "      <td>33.0</td>\n",
       "      <td>Male</td>\n",
       "      <td>-0.060817</td>\n",
       "      <td>-0.039582</td>\n",
       "      <td>0.251105</td>\n",
       "      <td>-0.438470</td>\n",
       "      <td>0.141505</td>\n",
       "      <td>1.508230</td>\n",
       "      <td>...</td>\n",
       "      <td>1.895134</td>\n",
       "      <td>6.525710</td>\n",
       "      <td>-0.104390</td>\n",
       "      <td>-0.152150</td>\n",
       "      <td>0.475797</td>\n",
       "      <td>0.726143</td>\n",
       "      <td>0.544279</td>\n",
       "      <td>3.060726</td>\n",
       "      <td>-4.557892</td>\n",
       "      <td>False</td>\n",
       "    </tr>\n",
       "    <tr>\n",
       "      <th>1</th>\n",
       "      <td>27d5ffdd-536e-4f2d-b478-74bbd520e9f7</td>\n",
       "      <td>00081bd9-9abd-4003-b035-de6cc3e8c922</td>\n",
       "      <td>70.0</td>\n",
       "      <td>Male</td>\n",
       "      <td>-0.015293</td>\n",
       "      <td>0.019290</td>\n",
       "      <td>0.205124</td>\n",
       "      <td>-0.854834</td>\n",
       "      <td>1.367009</td>\n",
       "      <td>1.521156</td>\n",
       "      <td>...</td>\n",
       "      <td>1.910760</td>\n",
       "      <td>5.276845</td>\n",
       "      <td>-0.009990</td>\n",
       "      <td>0.011845</td>\n",
       "      <td>0.388474</td>\n",
       "      <td>0.143198</td>\n",
       "      <td>0.936114</td>\n",
       "      <td>3.061306</td>\n",
       "      <td>-38.884676</td>\n",
       "      <td>False</td>\n",
       "    </tr>\n",
       "    <tr>\n",
       "      <th>2</th>\n",
       "      <td>cdd76ffc-9607-4106-b806-2fa29ad282f4</td>\n",
       "      <td>00372eda-3796-481b-96f7-f37e8e600904</td>\n",
       "      <td>NaN</td>\n",
       "      <td>Female</td>\n",
       "      <td>0.013353</td>\n",
       "      <td>0.023553</td>\n",
       "      <td>0.206104</td>\n",
       "      <td>-0.969447</td>\n",
       "      <td>4.550264</td>\n",
       "      <td>2.571121</td>\n",
       "      <td>...</td>\n",
       "      <td>2.653296</td>\n",
       "      <td>4.846593</td>\n",
       "      <td>-0.098005</td>\n",
       "      <td>-0.091900</td>\n",
       "      <td>0.420515</td>\n",
       "      <td>-1.091197</td>\n",
       "      <td>7.715927</td>\n",
       "      <td>5.277242</td>\n",
       "      <td>-4.290775</td>\n",
       "      <td>False</td>\n",
       "    </tr>\n",
       "    <tr>\n",
       "      <th>3</th>\n",
       "      <td>ba735eb0-0639-4392-8d4d-f87b06c7b7e6</td>\n",
       "      <td>00372eda-3796-481b-96f7-f37e8e600904</td>\n",
       "      <td>NaN</td>\n",
       "      <td>Female</td>\n",
       "      <td>0.016124</td>\n",
       "      <td>0.023198</td>\n",
       "      <td>0.192878</td>\n",
       "      <td>-0.936322</td>\n",
       "      <td>4.949377</td>\n",
       "      <td>2.571121</td>\n",
       "      <td>...</td>\n",
       "      <td>2.653296</td>\n",
       "      <td>3.992016</td>\n",
       "      <td>-0.068101</td>\n",
       "      <td>-0.036225</td>\n",
       "      <td>0.425813</td>\n",
       "      <td>-1.372953</td>\n",
       "      <td>7.632989</td>\n",
       "      <td>5.277242</td>\n",
       "      <td>-6.252671</td>\n",
       "      <td>False</td>\n",
       "    </tr>\n",
       "    <tr>\n",
       "      <th>4</th>\n",
       "      <td>2344a520-81df-4166-9f63-09343c502a21</td>\n",
       "      <td>00372eda-3796-481b-96f7-f37e8e600904</td>\n",
       "      <td>NaN</td>\n",
       "      <td>Female</td>\n",
       "      <td>0.013815</td>\n",
       "      <td>0.019293</td>\n",
       "      <td>0.198090</td>\n",
       "      <td>-0.664648</td>\n",
       "      <td>4.381479</td>\n",
       "      <td>2.674647</td>\n",
       "      <td>...</td>\n",
       "      <td>3.030658</td>\n",
       "      <td>5.130650</td>\n",
       "      <td>-0.057569</td>\n",
       "      <td>-0.030008</td>\n",
       "      <td>0.396042</td>\n",
       "      <td>-1.491347</td>\n",
       "      <td>9.065509</td>\n",
       "      <td>5.277242</td>\n",
       "      <td>-6.879401</td>\n",
       "      <td>False</td>\n",
       "    </tr>\n",
       "  </tbody>\n",
       "</table>\n",
       "<p>5 rows × 26 columns</p>\n",
       "</div>"
      ],
      "text/plain": [
       "                               recordId                            healthCode  \\\n",
       "0  a3e54d84-360e-4e8a-9534-de188d5fa9e1  000240d1-1110-4dd2-a2d0-e344c37efd68   \n",
       "1  27d5ffdd-536e-4f2d-b478-74bbd520e9f7  00081bd9-9abd-4003-b035-de6cc3e8c922   \n",
       "2  cdd76ffc-9607-4106-b806-2fa29ad282f4  00372eda-3796-481b-96f7-f37e8e600904   \n",
       "3  ba735eb0-0639-4392-8d4d-f87b06c7b7e6  00372eda-3796-481b-96f7-f37e8e600904   \n",
       "4  2344a520-81df-4166-9f63-09343c502a21  00372eda-3796-481b-96f7-f37e8e600904   \n",
       "\n",
       "    age  gender  meanXaccel  medianXaccel  stdXaccel  skewXaccel  kurtXaccel  \\\n",
       "0  33.0    Male   -0.060817     -0.039582   0.251105   -0.438470    0.141505   \n",
       "1  70.0    Male   -0.015293      0.019290   0.205124   -0.854834    1.367009   \n",
       "2   NaN  Female    0.013353      0.023553   0.206104   -0.969447    4.550264   \n",
       "3   NaN  Female    0.016124      0.023198   0.192878   -0.936322    4.949377   \n",
       "4   NaN  Female    0.013815      0.019293   0.198090   -0.664648    4.381479   \n",
       "\n",
       "   rangeXaccel           ...            rangeYaccel  variationYaccel  \\\n",
       "0     1.508230           ...               1.895134         6.525710   \n",
       "1     1.521156           ...               1.910760         5.276845   \n",
       "2     2.571121           ...               2.653296         4.846593   \n",
       "3     2.571121           ...               2.653296         3.992016   \n",
       "4     2.674647           ...               3.030658         5.130650   \n",
       "\n",
       "   meanZaccel  medianZaccel  stdZaccel  skewZaccel  kurtZaccel  rangeZaccel  \\\n",
       "0   -0.104390     -0.152150   0.475797    0.726143    0.544279     3.060726   \n",
       "1   -0.009990      0.011845   0.388474    0.143198    0.936114     3.061306   \n",
       "2   -0.098005     -0.091900   0.420515   -1.091197    7.715927     5.277242   \n",
       "3   -0.068101     -0.036225   0.425813   -1.372953    7.632989     5.277242   \n",
       "4   -0.057569     -0.030008   0.396042   -1.491347    9.065509     5.277242   \n",
       "\n",
       "   variationZaccel  professional-diagnosis  \n",
       "0        -4.557892                   False  \n",
       "1       -38.884676                   False  \n",
       "2        -4.290775                   False  \n",
       "3        -6.252671                   False  \n",
       "4        -6.879401                   False  \n",
       "\n",
       "[5 rows x 26 columns]"
      ]
     },
     "execution_count": 5,
     "metadata": {},
     "output_type": "execute_result"
    }
   ],
   "source": [
    "df.head()"
   ]
  },
  {
   "cell_type": "code",
   "execution_count": 6,
   "metadata": {
    "collapsed": false
   },
   "outputs": [
    {
     "name": "stdout",
     "output_type": "stream",
     "text": [
      "Shape: (2000, 26)\n",
      "Size: 2000\n"
     ]
    }
   ],
   "source": [
    "# shape and size of data\n",
    "\n",
    "print('Shape: {0}'.format(df.shape))\n",
    "print('Size: {0}'.format(len(df)))"
   ]
  },
  {
   "cell_type": "code",
   "execution_count": 7,
   "metadata": {
    "collapsed": false,
    "scrolled": true
   },
   "outputs": [
    {
     "name": "stdout",
     "output_type": "stream",
     "text": [
      "<class 'pandas.core.frame.DataFrame'>\n",
      "RangeIndex: 2000 entries, 0 to 1999\n",
      "Data columns (total 26 columns):\n",
      "recordId                  2000 non-null object\n",
      "healthCode                2000 non-null object\n",
      "age                       1992 non-null float64\n",
      "gender                    2000 non-null object\n",
      "meanXaccel                2000 non-null float64\n",
      "medianXaccel              2000 non-null float64\n",
      "stdXaccel                 2000 non-null float64\n",
      "skewXaccel                2000 non-null float64\n",
      "kurtXaccel                2000 non-null float64\n",
      "rangeXaccel               2000 non-null float64\n",
      "variationXaccel           2000 non-null float64\n",
      "meanYaccel                2000 non-null float64\n",
      "medianYaccel              2000 non-null float64\n",
      "stdYaccel                 2000 non-null float64\n",
      "skewYaccel                2000 non-null float64\n",
      "kurtYaccel                2000 non-null float64\n",
      "rangeYaccel               2000 non-null float64\n",
      "variationYaccel           2000 non-null float64\n",
      "meanZaccel                2000 non-null float64\n",
      "medianZaccel              2000 non-null float64\n",
      "stdZaccel                 2000 non-null float64\n",
      "skewZaccel                2000 non-null float64\n",
      "kurtZaccel                2000 non-null float64\n",
      "rangeZaccel               2000 non-null float64\n",
      "variationZaccel           2000 non-null float64\n",
      "professional-diagnosis    1920 non-null object\n",
      "dtypes: float64(22), object(4)\n",
      "memory usage: 406.3+ KB\n"
     ]
    }
   ],
   "source": [
    "# looks like we have missing age values and missing diagnosis values\n",
    "\n",
    "df.info()"
   ]
  },
  {
   "cell_type": "markdown",
   "metadata": {},
   "source": [
    "## Patients without Professional Diagnosis"
   ]
  },
  {
   "cell_type": "markdown",
   "metadata": {},
   "source": [
    "It appears out of the 2000 patient instances in this data, only 1920 have a professional diagnosis. Without being able to validate a diagnosis prediction with a professional diagnosis I chose to drop all instances without one."
   ]
  },
  {
   "cell_type": "code",
   "execution_count": 8,
   "metadata": {
    "collapsed": false
   },
   "outputs": [
    {
     "data": {
      "text/plain": [
       "1920"
      ]
     },
     "execution_count": 8,
     "metadata": {},
     "output_type": "execute_result"
    }
   ],
   "source": [
    "# drop all instances with no diagnosis\n",
    "\n",
    "df = df[df['professional-diagnosis'].notnull()]\n",
    "len(df)"
   ]
  },
  {
   "cell_type": "code",
   "execution_count": 9,
   "metadata": {
    "collapsed": true
   },
   "outputs": [],
   "source": [
    "#df.to_csv('prediction.csv')"
   ]
  },
  {
   "cell_type": "markdown",
   "metadata": {},
   "source": [
    "# Age and Gender"
   ]
  },
  {
   "cell_type": "markdown",
   "metadata": {},
   "source": [
    "Questions regarding age and gender:\n",
    "-  What is the distribution of ages in this dataset?\n",
    "-  Is there a specific age range in this data that is more likely to be positively diagnosed with Parkinson's?\n",
    "-  What is the ratio of males to females in this dataset?\n",
    "-  Is one more likely than the other to be positively diagnosed?\n",
    "-  What overlapping age and gender groups seem to be most likely to be positively diagnosed?"
   ]
  },
  {
   "cell_type": "markdown",
   "metadata": {},
   "source": [
    "## Age Distribution "
   ]
  },
  {
   "cell_type": "code",
   "execution_count": 10,
   "metadata": {
    "collapsed": false
   },
   "outputs": [
    {
     "data": {
      "image/png": "[encoded data removed]",
      "text/plain": [
       "<matplotlib.figure.Figure at 0x1036204a8>"
      ]
     },
     "metadata": {},
     "output_type": "display_data"
    }
   ],
   "source": [
    "df['age'].hist()\n",
    "plt.title('Age Distribution')\n",
    "plt.xlabel('Age')\n",
    "plt.show()"
   ]
  },
  {
   "cell_type": "markdown",
   "metadata": {},
   "source": [
    "## Patients under 50  "
   ]
  },
  {
   "cell_type": "code",
   "execution_count": 11,
   "metadata": {
    "collapsed": false
   },
   "outputs": [
    {
     "name": "stdout",
     "output_type": "stream",
     "text": [
      "Number of Patients under 50: 442\n",
      "Percentage of dataset: 23.020833333333332\n",
      "Patients under 50 Positive Diagnosis Percentage: 10.633484162895927\n"
     ]
    },
    {
     "data": {
      "image/png": "[encoded data removed]",
      "text/plain": [
       "<matplotlib.figure.Figure at 0x103620eb8>"
      ]
     },
     "metadata": {},
     "output_type": "display_data"
    }
   ],
   "source": [
    "under_50 = df[df['age'] < 50]\n",
    "under_50_percentage = len(under_50) / len(df) * 100\n",
    "positive_percentage_under50 = len(under_50[under_50['professional-diagnosis'] == True]) / len(under_50) * 100\n",
    "print('Number of Patients under 50: {0}'.format(len(under_50)))\n",
    "print('Percentage of dataset: {0}'.format(under_50_percentage))\n",
    "print('Patients under 50 Positive Diagnosis Percentage: {0}'.format(positive_percentage_under50))\n",
    "\n",
    "sb.countplot(x='professional-diagnosis', data=under_50)\n",
    "plt.title('Ages Under 50 Diagnosis Analysis')\n",
    "plt.show()"
   ]
  },
  {
   "cell_type": "markdown",
   "metadata": {},
   "source": [
    "## Patients 50 and Older "
   ]
  },
  {
   "cell_type": "code",
   "execution_count": 12,
   "metadata": {
    "collapsed": false
   },
   "outputs": [
    {
     "name": "stdout",
     "output_type": "stream",
     "text": [
      "Number of Patients age 50 and older: 1470\n",
      "Percentage of dataset: 76.5625\n",
      "Patients over 50 Positive Diagnosis Percentage: 85.17006802721089\n"
     ]
    },
    {
     "data": {
      "image/png": "[encoded data removed]",
      "text/plain": [
       "<matplotlib.figure.Figure at 0x1110badd8>"
      ]
     },
     "metadata": {},
     "output_type": "display_data"
    }
   ],
   "source": [
    "over_50 = df[df['age'] >= 50]\n",
    "over_50_percentage = len(over_50) / len(df) * 100\n",
    "positive_percentage_over50 = len(over_50[over_50['professional-diagnosis'] == True]) / len(over_50) * 100\n",
    "print('Number of Patients age 50 and older: {0}'.format(len(over_50)))\n",
    "print('Percentage of dataset: {0}'.format(over_50_percentage))\n",
    "print('Patients over 50 Positive Diagnosis Percentage: {0}'.format(positive_percentage_over50))\n",
    "\n",
    "sb.countplot(x='professional-diagnosis', data=over_50)\n",
    "plt.title('Ages Over 50 Diagnosis Analysis')\n",
    "plt.show()"
   ]
  },
  {
   "cell_type": "markdown",
   "metadata": {},
   "source": [
    "## Gender Distribution "
   ]
  },
  {
   "cell_type": "code",
   "execution_count": 13,
   "metadata": {
    "collapsed": false
   },
   "outputs": [
    {
     "data": {
      "image/png": "[encoded data removed]",
      "text/plain": [
       "<matplotlib.figure.Figure at 0x110deafd0>"
      ]
     },
     "metadata": {},
     "output_type": "display_data"
    }
   ],
   "source": [
    "sb.countplot(x='gender', data=df)\n",
    "plt.title('Gender Distribution')\n",
    "plt.show()"
   ]
  },
  {
   "cell_type": "markdown",
   "metadata": {},
   "source": [
    "## Males "
   ]
  },
  {
   "cell_type": "code",
   "execution_count": 14,
   "metadata": {
    "collapsed": false
   },
   "outputs": [
    {
     "name": "stdout",
     "output_type": "stream",
     "text": [
      "Number of Male Patients: 1221\n",
      "Percentage of dataset: 63.59375000000001\n",
      "Male Positive Diagnosis Percentage: 57.98525798525799\n"
     ]
    },
    {
     "data": {
      "image/png": "[encoded data removed]",
      "text/plain": [
       "<matplotlib.figure.Figure at 0x11125a0b8>"
      ]
     },
     "metadata": {},
     "output_type": "display_data"
    }
   ],
   "source": [
    "males = df[df['gender'] == 'Male']\n",
    "male_percentage = len(males) / len(df) * 100\n",
    "positive_male_percentage = len(males[males['professional-diagnosis'] == True]) / len(males) * 100\n",
    "print('Number of Male Patients: {0}'.format(len(males)))\n",
    "print('Percentage of dataset: {0}'.format(male_percentage))\n",
    "print('Male Positive Diagnosis Percentage: {0}'.format(positive_male_percentage))\n",
    "\n",
    "sb.countplot(x='professional-diagnosis' , data=males)\n",
    "plt.title('Male Diagnosis Analysis')\n",
    "plt.show()"
   ]
  },
  {
   "cell_type": "markdown",
   "metadata": {},
   "source": [
    "## Females "
   ]
  },
  {
   "cell_type": "code",
   "execution_count": 15,
   "metadata": {
    "collapsed": false
   },
   "outputs": [
    {
     "name": "stdout",
     "output_type": "stream",
     "text": [
      "Number of Female Patients: 699\n",
      "Percentage of dataset: 36.40625\n",
      "Female Positive Diagnosis Percentage: 85.26466380543634\n"
     ]
    },
    {
     "data": {
      "image/png": "[encoded data removed]",
      "text/plain": [
       "<matplotlib.figure.Figure at 0x105a19128>"
      ]
     },
     "metadata": {},
     "output_type": "display_data"
    }
   ],
   "source": [
    "females = df[df['gender'] == 'Female']\n",
    "female_percentage = len(females) / len(df) * 100\n",
    "positive_female_percentage = len(females[females['professional-diagnosis'] == True]) / len(females) * 100\n",
    "print('Number of Female Patients: {0}'.format(len(females)))\n",
    "print('Percentage of dataset: {0}'.format(female_percentage))\n",
    "print('Female Positive Diagnosis Percentage: {0}'.format(positive_female_percentage))\n",
    "\n",
    "sb.countplot(x='professional-diagnosis' , data=females)\n",
    "plt.title('Female Diagnosis Analysis')\n",
    "plt.show()"
   ]
  },
  {
   "cell_type": "markdown",
   "metadata": {},
   "source": [
    "## Males Under 50 "
   ]
  },
  {
   "cell_type": "code",
   "execution_count": 16,
   "metadata": {
    "collapsed": false
   },
   "outputs": [
    {
     "name": "stdout",
     "output_type": "stream",
     "text": [
      "Number of Male Patients under 50: 397\n",
      "Percentage of dataset: 20.677083333333332\n",
      "Male Patients under 50 Positive Diagnosis Percentage: 11.838790931989925\n"
     ]
    },
    {
     "data": {
      "image/png": "[encoded data removed]",
      "text/plain": [
       "<matplotlib.figure.Figure at 0x11149b5c0>"
      ]
     },
     "metadata": {},
     "output_type": "display_data"
    }
   ],
   "source": [
    "males_under_50 = males[males['age'] < 50]\n",
    "male_under_50_percentage = len(males_under_50) / len(df) * 100\n",
    "positive_male_under_50_percentage = len(males_under_50[males_under_50['professional-diagnosis'] == True]) / len(males_under_50) * 100\n",
    "print('Number of Male Patients under 50: {0}'.format(len(males_under_50)))\n",
    "print('Percentage of dataset: {0}'.format(male_under_50_percentage))\n",
    "print('Male Patients under 50 Positive Diagnosis Percentage: {0}'.format(positive_male_under_50_percentage))\n",
    "\n",
    "sb.countplot(x='professional-diagnosis' , data=males_under_50)\n",
    "plt.title('Males Under 50 Diagnosis Analysis')\n",
    "plt.show()"
   ]
  },
  {
   "cell_type": "markdown",
   "metadata": {},
   "source": [
    "## Males Over 50 "
   ]
  },
  {
   "cell_type": "code",
   "execution_count": 17,
   "metadata": {
    "collapsed": false
   },
   "outputs": [
    {
     "name": "stdout",
     "output_type": "stream",
     "text": [
      "Number of Male Patients over 50: 824\n",
      "Percentage of dataset: 42.916666666666664\n",
      "Male Patients over 50 Positive Diagnosis Percentage: 80.21844660194175\n"
     ]
    },
    {
     "data": {
      "image/png": "[encoded data removed]",
      "text/plain": [
       "<matplotlib.figure.Figure at 0x1115b3048>"
      ]
     },
     "metadata": {},
     "output_type": "display_data"
    }
   ],
   "source": [
    "males_over_50 = males[males['age'] >= 50]\n",
    "male_over_50_percentage = len(males_over_50) / len(df) * 100\n",
    "positive_male_over_50_percentage = len(males_over_50[males_over_50['professional-diagnosis'] == True]) / len(males_over_50) * 100\n",
    "print('Number of Male Patients over 50: {0}'.format(len(males_over_50)))\n",
    "print('Percentage of dataset: {0}'.format(male_over_50_percentage))\n",
    "print('Male Patients over 50 Positive Diagnosis Percentage: {0}'.format(positive_male_over_50_percentage))\n",
    "\n",
    "sb.countplot(x='professional-diagnosis' , data=males_over_50)\n",
    "plt.title('Males Over 50 Diagnosis Analysis')\n",
    "plt.show()"
   ]
  },
  {
   "cell_type": "markdown",
   "metadata": {},
   "source": [
    "## Females Under 50 "
   ]
  },
  {
   "cell_type": "code",
   "execution_count": 18,
   "metadata": {
    "collapsed": false
   },
   "outputs": [
    {
     "name": "stdout",
     "output_type": "stream",
     "text": [
      "Number of Female Patients under 50: 45\n",
      "Percentage of dataset: 2.34375\n",
      "Female Patients under 50 Positive Diagnosis Percentage: 0.0\n"
     ]
    },
    {
     "data": {
      "image/png": "[encoded data removed]",
      "text/plain": [
       "<matplotlib.figure.Figure at 0x1119d5438>"
      ]
     },
     "metadata": {},
     "output_type": "display_data"
    }
   ],
   "source": [
    "females_under_50 = females[females['age'] < 50]\n",
    "female_under_50_percentage = len(females_under_50) / len(df) * 100\n",
    "positive_female_under_50_percentage = len(females_under_50[females_under_50['professional-diagnosis'] == True]) / len(females_under_50) * 100\n",
    "print('Number of Female Patients under 50: {0}'.format(len(females_under_50)))\n",
    "print('Percentage of dataset: {0}'.format(female_under_50_percentage))\n",
    "print('Female Patients under 50 Positive Diagnosis Percentage: {0}'.format(positive_female_under_50_percentage))\n",
    "\n",
    "sb.countplot(x='professional-diagnosis' , data=females_under_50)\n",
    "plt.title('Females Under 50 Diagnosis Analysis')\n",
    "plt.show()"
   ]
  },
  {
   "cell_type": "markdown",
   "metadata": {},
   "source": [
    "## Females Over 50 "
   ]
  },
  {
   "cell_type": "code",
   "execution_count": 19,
   "metadata": {
    "collapsed": false
   },
   "outputs": [
    {
     "name": "stdout",
     "output_type": "stream",
     "text": [
      "Number of Female Patients over 50: 646\n",
      "Percentage of dataset: 33.645833333333336\n",
      "Male Patients over 50 Positive Diagnosis Percentage: 91.48606811145511\n"
     ]
    },
    {
     "data": {
      "image/png": "[encoded data removed]",
      "text/plain": [
       "<matplotlib.figure.Figure at 0x111aaddd8>"
      ]
     },
     "metadata": {},
     "output_type": "display_data"
    }
   ],
   "source": [
    "females_over_50 = females[females['age'] >= 50]\n",
    "female_over_50_percentage = len(females_over_50) / len(df) * 100\n",
    "positive_female_over_50_percentage = len(females_over_50[females_over_50['professional-diagnosis'] == True]) / len(females_over_50) * 100\n",
    "print('Number of Female Patients over 50: {0}'.format(len(females_over_50)))\n",
    "print('Percentage of dataset: {0}'.format(female_over_50_percentage))\n",
    "print('Male Patients over 50 Positive Diagnosis Percentage: {0}'.format(positive_female_over_50_percentage))\n",
    "\n",
    "sb.countplot(x='professional-diagnosis' , data=females_over_50)\n",
    "plt.title('Females Over 50 Diagnosis Analysis')\n",
    "plt.show()"
   ]
  },
  {
   "cell_type": "markdown",
   "metadata": {},
   "source": [
    "As mentioned before, this dataset only contains a fraction of the entire experiment's data so insights gained here could be thwarted if the entire dataset was explored. Also the diagnosis class of the data has not been observed yet so that needs to be taken into account. However observing the data that we have, let's answer the questions that we had earlier.\n",
    "\n",
    "-  It appears that the age of the patients seem to be skewed towards the right of 50 and older, this would make sense as according to Parkinson's Disease research, the average age of positively diagnosed patients is 60\n",
    "-  That research is somewhat validated here as only 10.6% of patients in this data under 50 were diagnosed with Parkinson's as opposed to 85% of patients over 50 being diagnosed positively\n",
    "-  There are also more males than females in this dataset with an approximate 65-35 split. This also makes sense as males are more likely to be diagnosed than females. Interestingly, 85% of the female instances in this dataset were positively diagnosed - this is not completely abnormal due to their small sample size within the dataset as well as the entirety of the dataset not being complete\n",
    "-  Overlapping these two categories, males over the age of 50 are the most common in this dataset accounting for 42% with 82% of them being diagnosed positively. Females over 50 are next accounting for 33% and 91% of them being diagnosed positively. Not suprisingly, there are no females under 50 who were diagnosed with Parkinsons's and only 12% of males under 50 where diagnosed positively"
   ]
  },
  {
   "cell_type": "markdown",
   "metadata": {},
   "source": [
    "# Target Class Balance "
   ]
  },
  {
   "cell_type": "code",
   "execution_count": 20,
   "metadata": {
    "collapsed": false
   },
   "outputs": [
    {
     "name": "stdout",
     "output_type": "stream",
     "text": [
      "Number of Positive Instances: 1304\n",
      "Number of Negative Instances: 616\n"
     ]
    },
    {
     "data": {
      "image/png": "[encoded data removed]",
      "text/plain": [
       "<matplotlib.figure.Figure at 0x1115920b8>"
      ]
     },
     "metadata": {},
     "output_type": "display_data"
    }
   ],
   "source": [
    "positive = len(df[df['professional-diagnosis'] == True])\n",
    "negative = len(df[df['professional-diagnosis'] == False])\n",
    "\n",
    "print('Number of Positive Instances: {0}'.format(positive))\n",
    "print('Number of Negative Instances: {0}'.format(negative))\n",
    "\n",
    "sb.countplot(x='professional-diagnosis', data=df)\n",
    "plt.title('Target Class Distribution')\n",
    "plt.show()"
   ]
  },
  {
   "cell_type": "markdown",
   "metadata": {},
   "source": [
    "In this dataset there is a pretty heavy target class imbalance with a positive diagnosis occuring 1304 times out of 1920 instances. This means that guessing a patient from this dataset is diagnosed with Parkinson's Disease will be correct 68% of the time. Moving forward this is good to know when evaluating our model's predictive performance. This information also leads us to choosing models that perform better with a target class imbalance. Some initial thoughts on algorithms that should perform better with a class imbalances are ensemble methods incorporating bagging and boosting. These will be explained more in depth in the next notebook containing prediction models. "
   ]
  },
  {
   "cell_type": "markdown",
   "metadata": {},
   "source": [
    "# Feature Distribution Analysis"
   ]
  },
  {
   "cell_type": "markdown",
   "metadata": {},
   "source": [
    "A gaussian or normal distribution can be depicted as a symmetrical bell curve. A key characteristic of guassian distributions is that the mean, median, and mode all share the same value. \n",
    "\n",
    "Skewness is essentially a measure of a distribution's asymmetry. The most important aspect of a skewed distribution is that the skewness does not determine the relationship of mean and median. In cases where it is necessary such as prediction, data might be transformed to have a normal distribution.\n",
    "\n",
    "Exponential distribution is a statistical distribution used to model the time between independent events that happen at a constant average rate. In the context of this data, the features extracted here are based off patient accerelation over periods of time which could lead to some features showing an exponential distribution."
   ]
  },
  {
   "cell_type": "markdown",
   "metadata": {},
   "source": [
    "Key questions regarding feature distribution:\n",
    "-  Which features have gaussian distributions?\n",
    "-  Which have skewed distributions? \n",
    "-  Which have exponential distributions?"
   ]
  },
  {
   "cell_type": "code",
   "execution_count": 21,
   "metadata": {
    "collapsed": false
   },
   "outputs": [
    {
     "data": {
      "text/html": [
       "<div>\n",
       "<table border=\"1\" class=\"dataframe\">\n",
       "  <thead>\n",
       "    <tr style=\"text-align: right;\">\n",
       "      <th></th>\n",
       "      <th>age</th>\n",
       "      <th>meanXaccel</th>\n",
       "      <th>medianXaccel</th>\n",
       "      <th>stdXaccel</th>\n",
       "      <th>skewXaccel</th>\n",
       "      <th>kurtXaccel</th>\n",
       "      <th>rangeXaccel</th>\n",
       "      <th>variationXaccel</th>\n",
       "      <th>meanYaccel</th>\n",
       "      <th>medianYaccel</th>\n",
       "      <th>...</th>\n",
       "      <th>kurtYaccel</th>\n",
       "      <th>rangeYaccel</th>\n",
       "      <th>variationYaccel</th>\n",
       "      <th>meanZaccel</th>\n",
       "      <th>medianZaccel</th>\n",
       "      <th>stdZaccel</th>\n",
       "      <th>skewZaccel</th>\n",
       "      <th>kurtZaccel</th>\n",
       "      <th>rangeZaccel</th>\n",
       "      <th>variationZaccel</th>\n",
       "    </tr>\n",
       "  </thead>\n",
       "  <tbody>\n",
       "    <tr>\n",
       "      <th>count</th>\n",
       "      <td>1912.000000</td>\n",
       "      <td>1920.000000</td>\n",
       "      <td>1920.000000</td>\n",
       "      <td>1920.000000</td>\n",
       "      <td>1920.000000</td>\n",
       "      <td>1920.000000</td>\n",
       "      <td>1920.000000</td>\n",
       "      <td>1920.000000</td>\n",
       "      <td>1920.000000</td>\n",
       "      <td>1920.000000</td>\n",
       "      <td>...</td>\n",
       "      <td>1920.000000</td>\n",
       "      <td>1920.000000</td>\n",
       "      <td>1920.000000</td>\n",
       "      <td>1920.000000</td>\n",
       "      <td>1920.000000</td>\n",
       "      <td>1920.000000</td>\n",
       "      <td>1920.000000</td>\n",
       "      <td>1920.000000</td>\n",
       "      <td>1920.000000</td>\n",
       "      <td>1920.000000</td>\n",
       "    </tr>\n",
       "    <tr>\n",
       "      <th>mean</th>\n",
       "      <td>54.266213</td>\n",
       "      <td>-0.001793</td>\n",
       "      <td>0.000834</td>\n",
       "      <td>0.234225</td>\n",
       "      <td>0.149205</td>\n",
       "      <td>9.211719</td>\n",
       "      <td>7.809693</td>\n",
       "      <td>-73.326385</td>\n",
       "      <td>0.016520</td>\n",
       "      <td>0.000722</td>\n",
       "      <td>...</td>\n",
       "      <td>16.656197</td>\n",
       "      <td>12.603993</td>\n",
       "      <td>15.966646</td>\n",
       "      <td>-0.001789</td>\n",
       "      <td>0.000020</td>\n",
       "      <td>0.231559</td>\n",
       "      <td>-0.271417</td>\n",
       "      <td>21.645097</td>\n",
       "      <td>12.287995</td>\n",
       "      <td>580.651202</td>\n",
       "    </tr>\n",
       "    <tr>\n",
       "      <th>std</th>\n",
       "      <td>13.941635</td>\n",
       "      <td>0.004133</td>\n",
       "      <td>0.001684</td>\n",
       "      <td>0.024383</td>\n",
       "      <td>0.177237</td>\n",
       "      <td>0.917553</td>\n",
       "      <td>1.027778</td>\n",
       "      <td>2656.888366</td>\n",
       "      <td>0.003567</td>\n",
       "      <td>0.001674</td>\n",
       "      <td>...</td>\n",
       "      <td>2.423943</td>\n",
       "      <td>2.080287</td>\n",
       "      <td>2.541103</td>\n",
       "      <td>0.006634</td>\n",
       "      <td>0.004250</td>\n",
       "      <td>0.018157</td>\n",
       "      <td>0.545366</td>\n",
       "      <td>4.093416</td>\n",
       "      <td>1.532039</td>\n",
       "      <td>22630.676389</td>\n",
       "    </tr>\n",
       "    <tr>\n",
       "      <th>min</th>\n",
       "      <td>18.000000</td>\n",
       "      <td>-0.060817</td>\n",
       "      <td>-0.039582</td>\n",
       "      <td>0.163443</td>\n",
       "      <td>-0.969447</td>\n",
       "      <td>0.141505</td>\n",
       "      <td>1.508230</td>\n",
       "      <td>-73751.448514</td>\n",
       "      <td>0.012261</td>\n",
       "      <td>-0.000906</td>\n",
       "      <td>...</td>\n",
       "      <td>-0.210016</td>\n",
       "      <td>1.895134</td>\n",
       "      <td>3.992016</td>\n",
       "      <td>-0.104390</td>\n",
       "      <td>-0.152150</td>\n",
       "      <td>0.204124</td>\n",
       "      <td>-1.970048</td>\n",
       "      <td>0.544279</td>\n",
       "      <td>3.060726</td>\n",
       "      <td>-90703.294424</td>\n",
       "    </tr>\n",
       "    <tr>\n",
       "      <th>25%</th>\n",
       "      <td>53.000000</td>\n",
       "      <td>-0.005088</td>\n",
       "      <td>0.000058</td>\n",
       "      <td>0.219771</td>\n",
       "      <td>0.059303</td>\n",
       "      <td>8.977803</td>\n",
       "      <td>7.555207</td>\n",
       "      <td>-72.377902</td>\n",
       "      <td>0.014574</td>\n",
       "      <td>-0.000068</td>\n",
       "      <td>...</td>\n",
       "      <td>16.172827</td>\n",
       "      <td>13.268981</td>\n",
       "      <td>14.971036</td>\n",
       "      <td>-0.003057</td>\n",
       "      <td>-0.000043</td>\n",
       "      <td>0.223766</td>\n",
       "      <td>-0.502083</td>\n",
       "      <td>18.621202</td>\n",
       "      <td>11.143338</td>\n",
       "      <td>-88.500680</td>\n",
       "    </tr>\n",
       "    <tr>\n",
       "      <th>50%</th>\n",
       "      <td>60.000000</td>\n",
       "      <td>-0.002605</td>\n",
       "      <td>0.000254</td>\n",
       "      <td>0.221635</td>\n",
       "      <td>0.095018</td>\n",
       "      <td>9.340599</td>\n",
       "      <td>8.061547</td>\n",
       "      <td>-38.187501</td>\n",
       "      <td>0.015693</td>\n",
       "      <td>0.000120</td>\n",
       "      <td>...</td>\n",
       "      <td>17.560100</td>\n",
       "      <td>13.737580</td>\n",
       "      <td>15.745528</td>\n",
       "      <td>-0.000124</td>\n",
       "      <td>0.000382</td>\n",
       "      <td>0.226728</td>\n",
       "      <td>-0.033984</td>\n",
       "      <td>21.140980</td>\n",
       "      <td>13.486719</td>\n",
       "      <td>-22.841307</td>\n",
       "    </tr>\n",
       "    <tr>\n",
       "      <th>75%</th>\n",
       "      <td>66.000000</td>\n",
       "      <td>0.001278</td>\n",
       "      <td>0.001586</td>\n",
       "      <td>0.250886</td>\n",
       "      <td>0.121648</td>\n",
       "      <td>9.585976</td>\n",
       "      <td>8.592721</td>\n",
       "      <td>64.582883</td>\n",
       "      <td>0.016305</td>\n",
       "      <td>0.001679</td>\n",
       "      <td>...</td>\n",
       "      <td>17.884109</td>\n",
       "      <td>13.737580</td>\n",
       "      <td>17.245262</td>\n",
       "      <td>0.001076</td>\n",
       "      <td>0.000502</td>\n",
       "      <td>0.238778</td>\n",
       "      <td>0.127868</td>\n",
       "      <td>23.702951</td>\n",
       "      <td>13.486719</td>\n",
       "      <td>185.160627</td>\n",
       "    </tr>\n",
       "    <tr>\n",
       "      <th>max</th>\n",
       "      <td>77.000000</td>\n",
       "      <td>0.016124</td>\n",
       "      <td>0.023553</td>\n",
       "      <td>0.328049</td>\n",
       "      <td>0.618566</td>\n",
       "      <td>11.464604</td>\n",
       "      <td>8.592721</td>\n",
       "      <td>21099.085196</td>\n",
       "      <td>0.056733</td>\n",
       "      <td>0.029125</td>\n",
       "      <td>...</td>\n",
       "      <td>19.397320</td>\n",
       "      <td>14.127019</td>\n",
       "      <td>21.209285</td>\n",
       "      <td>0.004392</td>\n",
       "      <td>0.011845</td>\n",
       "      <td>0.475797</td>\n",
       "      <td>0.726143</td>\n",
       "      <td>33.992827</td>\n",
       "      <td>13.486719</td>\n",
       "      <td>983536.793692</td>\n",
       "    </tr>\n",
       "  </tbody>\n",
       "</table>\n",
       "<p>8 rows × 22 columns</p>\n",
       "</div>"
      ],
      "text/plain": [
       "               age   meanXaccel  medianXaccel    stdXaccel   skewXaccel  \\\n",
       "count  1912.000000  1920.000000   1920.000000  1920.000000  1920.000000   \n",
       "mean     54.266213    -0.001793      0.000834     0.234225     0.149205   \n",
       "std      13.941635     0.004133      0.001684     0.024383     0.177237   \n",
       "min      18.000000    -0.060817     -0.039582     0.163443    -0.969447   \n",
       "25%      53.000000    -0.005088      0.000058     0.219771     0.059303   \n",
       "50%      60.000000    -0.002605      0.000254     0.221635     0.095018   \n",
       "75%      66.000000     0.001278      0.001586     0.250886     0.121648   \n",
       "max      77.000000     0.016124      0.023553     0.328049     0.618566   \n",
       "\n",
       "        kurtXaccel  rangeXaccel  variationXaccel   meanYaccel  medianYaccel  \\\n",
       "count  1920.000000  1920.000000      1920.000000  1920.000000   1920.000000   \n",
       "mean      9.211719     7.809693       -73.326385     0.016520      0.000722   \n",
       "std       0.917553     1.027778      2656.888366     0.003567      0.001674   \n",
       "min       0.141505     1.508230    -73751.448514     0.012261     -0.000906   \n",
       "25%       8.977803     7.555207       -72.377902     0.014574     -0.000068   \n",
       "50%       9.340599     8.061547       -38.187501     0.015693      0.000120   \n",
       "75%       9.585976     8.592721        64.582883     0.016305      0.001679   \n",
       "max      11.464604     8.592721     21099.085196     0.056733      0.029125   \n",
       "\n",
       "            ...          kurtYaccel  rangeYaccel  variationYaccel  \\\n",
       "count       ...         1920.000000  1920.000000      1920.000000   \n",
       "mean        ...           16.656197    12.603993        15.966646   \n",
       "std         ...            2.423943     2.080287         2.541103   \n",
       "min         ...           -0.210016     1.895134         3.992016   \n",
       "25%         ...           16.172827    13.268981        14.971036   \n",
       "50%         ...           17.560100    13.737580        15.745528   \n",
       "75%         ...           17.884109    13.737580        17.245262   \n",
       "max         ...           19.397320    14.127019        21.209285   \n",
       "\n",
       "        meanZaccel  medianZaccel    stdZaccel   skewZaccel   kurtZaccel  \\\n",
       "count  1920.000000   1920.000000  1920.000000  1920.000000  1920.000000   \n",
       "mean     -0.001789      0.000020     0.231559    -0.271417    21.645097   \n",
       "std       0.006634      0.004250     0.018157     0.545366     4.093416   \n",
       "min      -0.104390     -0.152150     0.204124    -1.970048     0.544279   \n",
       "25%      -0.003057     -0.000043     0.223766    -0.502083    18.621202   \n",
       "50%      -0.000124      0.000382     0.226728    -0.033984    21.140980   \n",
       "75%       0.001076      0.000502     0.238778     0.127868    23.702951   \n",
       "max       0.004392      0.011845     0.475797     0.726143    33.992827   \n",
       "\n",
       "       rangeZaccel  variationZaccel  \n",
       "count  1920.000000      1920.000000  \n",
       "mean     12.287995       580.651202  \n",
       "std       1.532039     22630.676389  \n",
       "min       3.060726    -90703.294424  \n",
       "25%      11.143338       -88.500680  \n",
       "50%      13.486719       -22.841307  \n",
       "75%      13.486719       185.160627  \n",
       "max      13.486719    983536.793692  \n",
       "\n",
       "[8 rows x 22 columns]"
      ]
     },
     "execution_count": 21,
     "metadata": {},
     "output_type": "execute_result"
    }
   ],
   "source": [
    "df.describe()"
   ]
  },
  {
   "cell_type": "code",
   "execution_count": 22,
   "metadata": {
    "collapsed": false
   },
   "outputs": [],
   "source": [
    "# visualize features by axis\n",
    "\n",
    "x_features = [col for col in df if 'X' in col]\n",
    "y_features = [col for col in df if 'Y' in col]\n",
    "z_features = [col for col in df if 'Z' in col]"
   ]
  },
  {
   "cell_type": "markdown",
   "metadata": {},
   "source": [
    "## Histograms "
   ]
  },
  {
   "cell_type": "code",
   "execution_count": 23,
   "metadata": {
    "collapsed": false
   },
   "outputs": [
    {
     "data": {
      "image/png": "[encoded data removed]",
      "text/plain": [
       "<matplotlib.figure.Figure at 0x111d359e8>"
      ]
     },
     "metadata": {},
     "output_type": "display_data"
    },
    {
     "data": {
      "image/png": "[encoded data removed]",
      "text/plain": [
       "<matplotlib.figure.Figure at 0x1119b8ac8>"
      ]
     },
     "metadata": {},
     "output_type": "display_data"
    },
    {
     "data": {
      "image/png": "[encoded data removed]",
      "text/plain": [
       "<matplotlib.figure.Figure at 0x110bf95c0>"
      ]
     },
     "metadata": {},
     "output_type": "display_data"
    }
   ],
   "source": [
    "df[x_features].hist(sharex=False, sharey=False, xlabelsize=1)\n",
    "df[y_features].hist(sharex=False, sharey=False, xlabelsize=1)\n",
    "df[z_features].hist(sharex=False, sharey=False, xlabelsize=1)\n",
    "\n",
    "plt.show()"
   ]
  },
  {
   "cell_type": "markdown",
   "metadata": {},
   "source": [
    "## Density Plot "
   ]
  },
  {
   "cell_type": "code",
   "execution_count": 24,
   "metadata": {
    "collapsed": false
   },
   "outputs": [
    {
     "data": {
      "image/png": "[encoded data removed]",
      "text/plain": [
       "<matplotlib.figure.Figure at 0x1123d8c18>"
      ]
     },
     "metadata": {},
     "output_type": "display_data"
    },
    {
     "data": {
      "image/png": "[encoded data removed]",
      "text/plain": [
       "<matplotlib.figure.Figure at 0x110ddefd0>"
      ]
     },
     "metadata": {},
     "output_type": "display_data"
    },
    {
     "data": {
      "image/png": "[encoded data removed]",
      "text/plain": [
       "<matplotlib.figure.Figure at 0x1124f2f60>"
      ]
     },
     "metadata": {},
     "output_type": "display_data"
    }
   ],
   "source": [
    "df[x_features].plot(kind='density', subplots=True, layout=(4,4), \n",
    "    sharex=False,legend=True, fontsize=0.5 )\n",
    "df[y_features].plot(kind='density', subplots=True, layout=(4,4), \n",
    "    sharex=False,legend=True, fontsize=0.5 )\n",
    "df[z_features].plot(kind='density', subplots=True, layout=(4,4), \n",
    "    sharex=False,legend=True, fontsize=0.5 )\n",
    "plt.show()"
   ]
  },
  {
   "cell_type": "markdown",
   "metadata": {},
   "source": [
    "## Box Plot "
   ]
  },
  {
   "cell_type": "code",
   "execution_count": 25,
   "metadata": {
    "collapsed": false
   },
   "outputs": [
    {
     "data": {
      "image/png": "[encoded data removed]",
      "text/plain": [
       "<matplotlib.figure.Figure at 0x111bd1d30>"
      ]
     },
     "metadata": {},
     "output_type": "display_data"
    },
    {
     "data": {
      "image/png": "[encoded data removed]",
      "text/plain": [
       "<matplotlib.figure.Figure at 0x1145d0ef0>"
      ]
     },
     "metadata": {},
     "output_type": "display_data"
    },
    {
     "data": {
      "image/png": "[encoded data removed]",
      "text/plain": [
       "<matplotlib.figure.Figure at 0x114538f60>"
      ]
     },
     "metadata": {},
     "output_type": "display_data"
    }
   ],
   "source": [
    "df[x_features].plot(kind='box', subplots=True, layout=(4,4), sharex=False,\n",
    "        sharey=False, fontsize=8)\n",
    "df[y_features].plot(kind='box', subplots=True, layout=(4,4), sharex=False,\n",
    "        sharey=False, fontsize=8)\n",
    "df[z_features].plot(kind='box', subplots=True, layout=(4,4), sharex=False,\n",
    "        sharey=False, fontsize=8)\n",
    "plt.show()"
   ]
  },
  {
   "cell_type": "markdown",
   "metadata": {},
   "source": [
    "It appears that most features in the raw state do not contain a gaussian distribution. This is important because for the purpose of this binary classification project, algorithms such as Logistic Regression assume a gaussian distribution and its performance can suffer. Some features such as kurtXAccel and kurtYAccel appear to have exponential distributions. Some skewed distributions appear to be shown by variationYAccel and KurtZAccel. A couple features that are candidates to be dropped when the time comes for prediction and variationXAccel and variationZAccel.\n",
    "\n",
    "With the scarcity of normal distributions within the features it appears that scaling could help us with prediction performance. It will be interesting to see the impact of scaling quantitatively and will be shown in the next notebook.\n"
   ]
  },
  {
   "cell_type": "markdown",
   "metadata": {},
   "source": [
    "# Correlation Analysis "
   ]
  },
  {
   "cell_type": "markdown",
   "metadata": {},
   "source": [
    "Correlation gives an indication of how related the changes are between two variables. If two variables change in the same direction they are positively correlated. If they change in opposite directions together, then they are negatively correlated. The metric to calculate correlation that is commonly used is the Pearson's Correlation Coeffecient."
   ]
  },
  {
   "cell_type": "markdown",
   "metadata": {},
   "source": [
    "Questions regarding correlation:\n",
    "-  Which features are positively correlated with one another?\n",
    "-  Which features are negatively correlated with one another?"
   ]
  },
  {
   "cell_type": "code",
   "execution_count": 26,
   "metadata": {
    "collapsed": false
   },
   "outputs": [
    {
     "data": {
      "text/html": [
       "<div>\n",
       "<table border=\"1\" class=\"dataframe\">\n",
       "  <thead>\n",
       "    <tr style=\"text-align: right;\">\n",
       "      <th></th>\n",
       "      <th>age</th>\n",
       "      <th>meanXaccel</th>\n",
       "      <th>medianXaccel</th>\n",
       "      <th>stdXaccel</th>\n",
       "      <th>skewXaccel</th>\n",
       "      <th>kurtXaccel</th>\n",
       "      <th>rangeXaccel</th>\n",
       "      <th>variationXaccel</th>\n",
       "      <th>meanYaccel</th>\n",
       "      <th>medianYaccel</th>\n",
       "      <th>...</th>\n",
       "      <th>kurtYaccel</th>\n",
       "      <th>rangeYaccel</th>\n",
       "      <th>variationYaccel</th>\n",
       "      <th>meanZaccel</th>\n",
       "      <th>medianZaccel</th>\n",
       "      <th>stdZaccel</th>\n",
       "      <th>skewZaccel</th>\n",
       "      <th>kurtZaccel</th>\n",
       "      <th>rangeZaccel</th>\n",
       "      <th>variationZaccel</th>\n",
       "    </tr>\n",
       "  </thead>\n",
       "  <tbody>\n",
       "    <tr>\n",
       "      <th>age</th>\n",
       "      <td>1.000000</td>\n",
       "      <td>-0.008468</td>\n",
       "      <td>0.010886</td>\n",
       "      <td>0.069865</td>\n",
       "      <td>-0.014582</td>\n",
       "      <td>-0.128606</td>\n",
       "      <td>0.109175</td>\n",
       "      <td>-0.006345</td>\n",
       "      <td>-0.086319</td>\n",
       "      <td>0.047809</td>\n",
       "      <td>...</td>\n",
       "      <td>0.013984</td>\n",
       "      <td>0.151271</td>\n",
       "      <td>0.105092</td>\n",
       "      <td>0.088888</td>\n",
       "      <td>0.048780</td>\n",
       "      <td>0.112444</td>\n",
       "      <td>0.148497</td>\n",
       "      <td>-0.181526</td>\n",
       "      <td>0.128477</td>\n",
       "      <td>0.021032</td>\n",
       "    </tr>\n",
       "    <tr>\n",
       "      <th>meanXaccel</th>\n",
       "      <td>-0.008468</td>\n",
       "      <td>1.000000</td>\n",
       "      <td>0.677604</td>\n",
       "      <td>0.377865</td>\n",
       "      <td>0.536463</td>\n",
       "      <td>0.156054</td>\n",
       "      <td>-0.264793</td>\n",
       "      <td>0.009365</td>\n",
       "      <td>0.619601</td>\n",
       "      <td>0.254879</td>\n",
       "      <td>...</td>\n",
       "      <td>-0.200545</td>\n",
       "      <td>-0.420693</td>\n",
       "      <td>-0.690892</td>\n",
       "      <td>0.050767</td>\n",
       "      <td>0.186519</td>\n",
       "      <td>0.455207</td>\n",
       "      <td>-0.239792</td>\n",
       "      <td>0.219428</td>\n",
       "      <td>-0.030785</td>\n",
       "      <td>0.036171</td>\n",
       "    </tr>\n",
       "    <tr>\n",
       "      <th>medianXaccel</th>\n",
       "      <td>0.010886</td>\n",
       "      <td>0.677604</td>\n",
       "      <td>1.000000</td>\n",
       "      <td>0.437175</td>\n",
       "      <td>0.369156</td>\n",
       "      <td>-0.008767</td>\n",
       "      <td>-0.406497</td>\n",
       "      <td>0.036835</td>\n",
       "      <td>0.556312</td>\n",
       "      <td>0.569305</td>\n",
       "      <td>...</td>\n",
       "      <td>-0.363580</td>\n",
       "      <td>-0.447982</td>\n",
       "      <td>-0.368064</td>\n",
       "      <td>-0.196309</td>\n",
       "      <td>0.181992</td>\n",
       "      <td>0.432543</td>\n",
       "      <td>-0.451097</td>\n",
       "      <td>0.169249</td>\n",
       "      <td>-0.323068</td>\n",
       "      <td>0.021924</td>\n",
       "    </tr>\n",
       "    <tr>\n",
       "      <th>stdXaccel</th>\n",
       "      <td>0.069865</td>\n",
       "      <td>0.377865</td>\n",
       "      <td>0.437175</td>\n",
       "      <td>1.000000</td>\n",
       "      <td>0.800472</td>\n",
       "      <td>-0.064005</td>\n",
       "      <td>-0.443559</td>\n",
       "      <td>0.052515</td>\n",
       "      <td>0.485250</td>\n",
       "      <td>0.456837</td>\n",
       "      <td>...</td>\n",
       "      <td>-0.477378</td>\n",
       "      <td>-0.519661</td>\n",
       "      <td>-0.191989</td>\n",
       "      <td>-0.157846</td>\n",
       "      <td>-0.012948</td>\n",
       "      <td>0.452901</td>\n",
       "      <td>-0.728012</td>\n",
       "      <td>0.483194</td>\n",
       "      <td>-0.398622</td>\n",
       "      <td>0.081359</td>\n",
       "    </tr>\n",
       "    <tr>\n",
       "      <th>skewXaccel</th>\n",
       "      <td>-0.014582</td>\n",
       "      <td>0.536463</td>\n",
       "      <td>0.369156</td>\n",
       "      <td>0.800472</td>\n",
       "      <td>1.000000</td>\n",
       "      <td>0.302956</td>\n",
       "      <td>-0.322798</td>\n",
       "      <td>0.043659</td>\n",
       "      <td>0.428612</td>\n",
       "      <td>0.198768</td>\n",
       "      <td>...</td>\n",
       "      <td>-0.160866</td>\n",
       "      <td>-0.429586</td>\n",
       "      <td>-0.378676</td>\n",
       "      <td>0.122381</td>\n",
       "      <td>0.164203</td>\n",
       "      <td>0.165828</td>\n",
       "      <td>-0.582019</td>\n",
       "      <td>0.684790</td>\n",
       "      <td>-0.151178</td>\n",
       "      <td>0.049057</td>\n",
       "    </tr>\n",
       "    <tr>\n",
       "      <th>kurtXaccel</th>\n",
       "      <td>-0.128606</td>\n",
       "      <td>0.156054</td>\n",
       "      <td>-0.008767</td>\n",
       "      <td>-0.064005</td>\n",
       "      <td>0.302956</td>\n",
       "      <td>1.000000</td>\n",
       "      <td>0.549545</td>\n",
       "      <td>-0.013486</td>\n",
       "      <td>-0.336707</td>\n",
       "      <td>-0.327308</td>\n",
       "      <td>...</td>\n",
       "      <td>0.758075</td>\n",
       "      <td>0.444561</td>\n",
       "      <td>0.184439</td>\n",
       "      <td>0.683003</td>\n",
       "      <td>0.346795</td>\n",
       "      <td>-0.619532</td>\n",
       "      <td>0.238214</td>\n",
       "      <td>0.352845</td>\n",
       "      <td>0.501481</td>\n",
       "      <td>-0.039788</td>\n",
       "    </tr>\n",
       "    <tr>\n",
       "      <th>rangeXaccel</th>\n",
       "      <td>0.109175</td>\n",
       "      <td>-0.264793</td>\n",
       "      <td>-0.406497</td>\n",
       "      <td>-0.443559</td>\n",
       "      <td>-0.322798</td>\n",
       "      <td>0.549545</td>\n",
       "      <td>1.000000</td>\n",
       "      <td>-0.070730</td>\n",
       "      <td>-0.759227</td>\n",
       "      <td>-0.499061</td>\n",
       "      <td>...</td>\n",
       "      <td>0.876112</td>\n",
       "      <td>0.950067</td>\n",
       "      <td>0.552894</td>\n",
       "      <td>0.796020</td>\n",
       "      <td>0.307046</td>\n",
       "      <td>-0.642719</td>\n",
       "      <td>0.810604</td>\n",
       "      <td>-0.197745</td>\n",
       "      <td>0.855374</td>\n",
       "      <td>-0.023586</td>\n",
       "    </tr>\n",
       "    <tr>\n",
       "      <th>variationXaccel</th>\n",
       "      <td>-0.006345</td>\n",
       "      <td>0.009365</td>\n",
       "      <td>0.036835</td>\n",
       "      <td>0.052515</td>\n",
       "      <td>0.043659</td>\n",
       "      <td>-0.013486</td>\n",
       "      <td>-0.070730</td>\n",
       "      <td>1.000000</td>\n",
       "      <td>0.022627</td>\n",
       "      <td>0.044378</td>\n",
       "      <td>...</td>\n",
       "      <td>-0.046464</td>\n",
       "      <td>-0.048208</td>\n",
       "      <td>0.005104</td>\n",
       "      <td>-0.036900</td>\n",
       "      <td>-0.007904</td>\n",
       "      <td>0.031867</td>\n",
       "      <td>-0.059143</td>\n",
       "      <td>0.012573</td>\n",
       "      <td>-0.060107</td>\n",
       "      <td>0.000827</td>\n",
       "    </tr>\n",
       "    <tr>\n",
       "      <th>meanYaccel</th>\n",
       "      <td>-0.086319</td>\n",
       "      <td>0.619601</td>\n",
       "      <td>0.556312</td>\n",
       "      <td>0.485250</td>\n",
       "      <td>0.428612</td>\n",
       "      <td>-0.336707</td>\n",
       "      <td>-0.759227</td>\n",
       "      <td>0.022627</td>\n",
       "      <td>1.000000</td>\n",
       "      <td>0.652157</td>\n",
       "      <td>...</td>\n",
       "      <td>-0.685131</td>\n",
       "      <td>-0.844770</td>\n",
       "      <td>-0.848130</td>\n",
       "      <td>-0.541218</td>\n",
       "      <td>-0.380203</td>\n",
       "      <td>0.799254</td>\n",
       "      <td>-0.583239</td>\n",
       "      <td>0.258544</td>\n",
       "      <td>-0.514497</td>\n",
       "      <td>0.054384</td>\n",
       "    </tr>\n",
       "    <tr>\n",
       "      <th>medianYaccel</th>\n",
       "      <td>0.047809</td>\n",
       "      <td>0.254879</td>\n",
       "      <td>0.569305</td>\n",
       "      <td>0.456837</td>\n",
       "      <td>0.198768</td>\n",
       "      <td>-0.327308</td>\n",
       "      <td>-0.499061</td>\n",
       "      <td>0.044378</td>\n",
       "      <td>0.652157</td>\n",
       "      <td>1.000000</td>\n",
       "      <td>...</td>\n",
       "      <td>-0.552470</td>\n",
       "      <td>-0.459022</td>\n",
       "      <td>-0.299398</td>\n",
       "      <td>-0.558545</td>\n",
       "      <td>-0.488905</td>\n",
       "      <td>0.719229</td>\n",
       "      <td>-0.363028</td>\n",
       "      <td>-0.069321</td>\n",
       "      <td>-0.450473</td>\n",
       "      <td>0.020823</td>\n",
       "    </tr>\n",
       "    <tr>\n",
       "      <th>stdYaccel</th>\n",
       "      <td>0.118377</td>\n",
       "      <td>0.200457</td>\n",
       "      <td>0.383414</td>\n",
       "      <td>0.901688</td>\n",
       "      <td>0.614922</td>\n",
       "      <td>-0.030208</td>\n",
       "      <td>-0.305080</td>\n",
       "      <td>0.063728</td>\n",
       "      <td>0.294358</td>\n",
       "      <td>0.556938</td>\n",
       "      <td>...</td>\n",
       "      <td>-0.400979</td>\n",
       "      <td>-0.308079</td>\n",
       "      <td>0.100194</td>\n",
       "      <td>-0.179790</td>\n",
       "      <td>-0.059216</td>\n",
       "      <td>0.400305</td>\n",
       "      <td>-0.582862</td>\n",
       "      <td>0.268170</td>\n",
       "      <td>-0.363657</td>\n",
       "      <td>0.061835</td>\n",
       "    </tr>\n",
       "    <tr>\n",
       "      <th>skewYaccel</th>\n",
       "      <td>-0.107127</td>\n",
       "      <td>0.729363</td>\n",
       "      <td>0.320557</td>\n",
       "      <td>0.119487</td>\n",
       "      <td>0.523926</td>\n",
       "      <td>0.326523</td>\n",
       "      <td>-0.239955</td>\n",
       "      <td>0.000918</td>\n",
       "      <td>0.570986</td>\n",
       "      <td>0.122680</td>\n",
       "      <td>...</td>\n",
       "      <td>0.016281</td>\n",
       "      <td>-0.380132</td>\n",
       "      <td>-0.803239</td>\n",
       "      <td>0.112386</td>\n",
       "      <td>0.024432</td>\n",
       "      <td>0.224645</td>\n",
       "      <td>-0.091479</td>\n",
       "      <td>0.289463</td>\n",
       "      <td>0.061229</td>\n",
       "      <td>0.003182</td>\n",
       "    </tr>\n",
       "    <tr>\n",
       "      <th>kurtYaccel</th>\n",
       "      <td>0.013984</td>\n",
       "      <td>-0.200545</td>\n",
       "      <td>-0.363580</td>\n",
       "      <td>-0.477378</td>\n",
       "      <td>-0.160866</td>\n",
       "      <td>0.758075</td>\n",
       "      <td>0.876112</td>\n",
       "      <td>-0.046464</td>\n",
       "      <td>-0.685131</td>\n",
       "      <td>-0.552470</td>\n",
       "      <td>...</td>\n",
       "      <td>1.000000</td>\n",
       "      <td>0.852937</td>\n",
       "      <td>0.413951</td>\n",
       "      <td>0.807851</td>\n",
       "      <td>0.331551</td>\n",
       "      <td>-0.759811</td>\n",
       "      <td>0.709034</td>\n",
       "      <td>0.023016</td>\n",
       "      <td>0.822849</td>\n",
       "      <td>-0.055130</td>\n",
       "    </tr>\n",
       "    <tr>\n",
       "      <th>rangeYaccel</th>\n",
       "      <td>0.151271</td>\n",
       "      <td>-0.420693</td>\n",
       "      <td>-0.447982</td>\n",
       "      <td>-0.519661</td>\n",
       "      <td>-0.429586</td>\n",
       "      <td>0.444561</td>\n",
       "      <td>0.950067</td>\n",
       "      <td>-0.048208</td>\n",
       "      <td>-0.844770</td>\n",
       "      <td>-0.459022</td>\n",
       "      <td>...</td>\n",
       "      <td>0.852937</td>\n",
       "      <td>1.000000</td>\n",
       "      <td>0.678393</td>\n",
       "      <td>0.678069</td>\n",
       "      <td>0.266677</td>\n",
       "      <td>-0.655642</td>\n",
       "      <td>0.822874</td>\n",
       "      <td>-0.285049</td>\n",
       "      <td>0.803205</td>\n",
       "      <td>-0.042037</td>\n",
       "    </tr>\n",
       "    <tr>\n",
       "      <th>variationYaccel</th>\n",
       "      <td>0.105092</td>\n",
       "      <td>-0.690892</td>\n",
       "      <td>-0.368064</td>\n",
       "      <td>-0.191989</td>\n",
       "      <td>-0.378676</td>\n",
       "      <td>0.184439</td>\n",
       "      <td>0.552894</td>\n",
       "      <td>0.005104</td>\n",
       "      <td>-0.848130</td>\n",
       "      <td>-0.299398</td>\n",
       "      <td>...</td>\n",
       "      <td>0.413951</td>\n",
       "      <td>0.678393</td>\n",
       "      <td>1.000000</td>\n",
       "      <td>0.260140</td>\n",
       "      <td>0.173340</td>\n",
       "      <td>-0.547990</td>\n",
       "      <td>0.297030</td>\n",
       "      <td>-0.275199</td>\n",
       "      <td>0.198408</td>\n",
       "      <td>-0.034396</td>\n",
       "    </tr>\n",
       "    <tr>\n",
       "      <th>meanZaccel</th>\n",
       "      <td>0.088888</td>\n",
       "      <td>0.050767</td>\n",
       "      <td>-0.196309</td>\n",
       "      <td>-0.157846</td>\n",
       "      <td>0.122381</td>\n",
       "      <td>0.683003</td>\n",
       "      <td>0.796020</td>\n",
       "      <td>-0.036900</td>\n",
       "      <td>-0.541218</td>\n",
       "      <td>-0.558545</td>\n",
       "      <td>...</td>\n",
       "      <td>0.807851</td>\n",
       "      <td>0.678069</td>\n",
       "      <td>0.260140</td>\n",
       "      <td>1.000000</td>\n",
       "      <td>0.632628</td>\n",
       "      <td>-0.657378</td>\n",
       "      <td>0.533525</td>\n",
       "      <td>0.161906</td>\n",
       "      <td>0.774491</td>\n",
       "      <td>0.008466</td>\n",
       "    </tr>\n",
       "    <tr>\n",
       "      <th>medianZaccel</th>\n",
       "      <td>0.048780</td>\n",
       "      <td>0.186519</td>\n",
       "      <td>0.181992</td>\n",
       "      <td>-0.012948</td>\n",
       "      <td>0.164203</td>\n",
       "      <td>0.346795</td>\n",
       "      <td>0.307046</td>\n",
       "      <td>-0.007904</td>\n",
       "      <td>-0.380203</td>\n",
       "      <td>-0.488905</td>\n",
       "      <td>...</td>\n",
       "      <td>0.331551</td>\n",
       "      <td>0.266677</td>\n",
       "      <td>0.173340</td>\n",
       "      <td>0.632628</td>\n",
       "      <td>1.000000</td>\n",
       "      <td>-0.495239</td>\n",
       "      <td>0.077709</td>\n",
       "      <td>0.175250</td>\n",
       "      <td>0.297168</td>\n",
       "      <td>0.003589</td>\n",
       "    </tr>\n",
       "    <tr>\n",
       "      <th>stdZaccel</th>\n",
       "      <td>0.112444</td>\n",
       "      <td>0.455207</td>\n",
       "      <td>0.432543</td>\n",
       "      <td>0.452901</td>\n",
       "      <td>0.165828</td>\n",
       "      <td>-0.619532</td>\n",
       "      <td>-0.642719</td>\n",
       "      <td>0.031867</td>\n",
       "      <td>0.799254</td>\n",
       "      <td>0.719229</td>\n",
       "      <td>...</td>\n",
       "      <td>-0.759811</td>\n",
       "      <td>-0.655642</td>\n",
       "      <td>-0.547990</td>\n",
       "      <td>-0.657378</td>\n",
       "      <td>-0.495239</td>\n",
       "      <td>1.000000</td>\n",
       "      <td>-0.376745</td>\n",
       "      <td>-0.165175</td>\n",
       "      <td>-0.482008</td>\n",
       "      <td>0.044252</td>\n",
       "    </tr>\n",
       "    <tr>\n",
       "      <th>skewZaccel</th>\n",
       "      <td>0.148497</td>\n",
       "      <td>-0.239792</td>\n",
       "      <td>-0.451097</td>\n",
       "      <td>-0.728012</td>\n",
       "      <td>-0.582019</td>\n",
       "      <td>0.238214</td>\n",
       "      <td>0.810604</td>\n",
       "      <td>-0.059143</td>\n",
       "      <td>-0.583239</td>\n",
       "      <td>-0.363028</td>\n",
       "      <td>...</td>\n",
       "      <td>0.709034</td>\n",
       "      <td>0.822874</td>\n",
       "      <td>0.297030</td>\n",
       "      <td>0.533525</td>\n",
       "      <td>0.077709</td>\n",
       "      <td>-0.376745</td>\n",
       "      <td>1.000000</td>\n",
       "      <td>-0.490897</td>\n",
       "      <td>0.810281</td>\n",
       "      <td>-0.054500</td>\n",
       "    </tr>\n",
       "    <tr>\n",
       "      <th>kurtZaccel</th>\n",
       "      <td>-0.181526</td>\n",
       "      <td>0.219428</td>\n",
       "      <td>0.169249</td>\n",
       "      <td>0.483194</td>\n",
       "      <td>0.684790</td>\n",
       "      <td>0.352845</td>\n",
       "      <td>-0.197745</td>\n",
       "      <td>0.012573</td>\n",
       "      <td>0.258544</td>\n",
       "      <td>-0.069321</td>\n",
       "      <td>...</td>\n",
       "      <td>0.023016</td>\n",
       "      <td>-0.285049</td>\n",
       "      <td>-0.275199</td>\n",
       "      <td>0.161906</td>\n",
       "      <td>0.175250</td>\n",
       "      <td>-0.165175</td>\n",
       "      <td>-0.490897</td>\n",
       "      <td>1.000000</td>\n",
       "      <td>0.050525</td>\n",
       "      <td>0.057567</td>\n",
       "    </tr>\n",
       "    <tr>\n",
       "      <th>rangeZaccel</th>\n",
       "      <td>0.128477</td>\n",
       "      <td>-0.030785</td>\n",
       "      <td>-0.323068</td>\n",
       "      <td>-0.398622</td>\n",
       "      <td>-0.151178</td>\n",
       "      <td>0.501481</td>\n",
       "      <td>0.855374</td>\n",
       "      <td>-0.060107</td>\n",
       "      <td>-0.514497</td>\n",
       "      <td>-0.450473</td>\n",
       "      <td>...</td>\n",
       "      <td>0.822849</td>\n",
       "      <td>0.803205</td>\n",
       "      <td>0.198408</td>\n",
       "      <td>0.774491</td>\n",
       "      <td>0.297168</td>\n",
       "      <td>-0.482008</td>\n",
       "      <td>0.810281</td>\n",
       "      <td>0.050525</td>\n",
       "      <td>1.000000</td>\n",
       "      <td>-0.011281</td>\n",
       "    </tr>\n",
       "    <tr>\n",
       "      <th>variationZaccel</th>\n",
       "      <td>0.021032</td>\n",
       "      <td>0.036171</td>\n",
       "      <td>0.021924</td>\n",
       "      <td>0.081359</td>\n",
       "      <td>0.049057</td>\n",
       "      <td>-0.039788</td>\n",
       "      <td>-0.023586</td>\n",
       "      <td>0.000827</td>\n",
       "      <td>0.054384</td>\n",
       "      <td>0.020823</td>\n",
       "      <td>...</td>\n",
       "      <td>-0.055130</td>\n",
       "      <td>-0.042037</td>\n",
       "      <td>-0.034396</td>\n",
       "      <td>0.008466</td>\n",
       "      <td>0.003589</td>\n",
       "      <td>0.044252</td>\n",
       "      <td>-0.054500</td>\n",
       "      <td>0.057567</td>\n",
       "      <td>-0.011281</td>\n",
       "      <td>1.000000</td>\n",
       "    </tr>\n",
       "  </tbody>\n",
       "</table>\n",
       "<p>22 rows × 22 columns</p>\n",
       "</div>"
      ],
      "text/plain": [
       "                      age  meanXaccel  medianXaccel  stdXaccel  skewXaccel  \\\n",
       "age              1.000000   -0.008468      0.010886   0.069865   -0.014582   \n",
       "meanXaccel      -0.008468    1.000000      0.677604   0.377865    0.536463   \n",
       "medianXaccel     0.010886    0.677604      1.000000   0.437175    0.369156   \n",
       "stdXaccel        0.069865    0.377865      0.437175   1.000000    0.800472   \n",
       "skewXaccel      -0.014582    0.536463      0.369156   0.800472    1.000000   \n",
       "kurtXaccel      -0.128606    0.156054     -0.008767  -0.064005    0.302956   \n",
       "rangeXaccel      0.109175   -0.264793     -0.406497  -0.443559   -0.322798   \n",
       "variationXaccel -0.006345    0.009365      0.036835   0.052515    0.043659   \n",
       "meanYaccel      -0.086319    0.619601      0.556312   0.485250    0.428612   \n",
       "medianYaccel     0.047809    0.254879      0.569305   0.456837    0.198768   \n",
       "stdYaccel        0.118377    0.200457      0.383414   0.901688    0.614922   \n",
       "skewYaccel      -0.107127    0.729363      0.320557   0.119487    0.523926   \n",
       "kurtYaccel       0.013984   -0.200545     -0.363580  -0.477378   -0.160866   \n",
       "rangeYaccel      0.151271   -0.420693     -0.447982  -0.519661   -0.429586   \n",
       "variationYaccel  0.105092   -0.690892     -0.368064  -0.191989   -0.378676   \n",
       "meanZaccel       0.088888    0.050767     -0.196309  -0.157846    0.122381   \n",
       "medianZaccel     0.048780    0.186519      0.181992  -0.012948    0.164203   \n",
       "stdZaccel        0.112444    0.455207      0.432543   0.452901    0.165828   \n",
       "skewZaccel       0.148497   -0.239792     -0.451097  -0.728012   -0.582019   \n",
       "kurtZaccel      -0.181526    0.219428      0.169249   0.483194    0.684790   \n",
       "rangeZaccel      0.128477   -0.030785     -0.323068  -0.398622   -0.151178   \n",
       "variationZaccel  0.021032    0.036171      0.021924   0.081359    0.049057   \n",
       "\n",
       "                 kurtXaccel  rangeXaccel  variationXaccel  meanYaccel  \\\n",
       "age               -0.128606     0.109175        -0.006345   -0.086319   \n",
       "meanXaccel         0.156054    -0.264793         0.009365    0.619601   \n",
       "medianXaccel      -0.008767    -0.406497         0.036835    0.556312   \n",
       "stdXaccel         -0.064005    -0.443559         0.052515    0.485250   \n",
       "skewXaccel         0.302956    -0.322798         0.043659    0.428612   \n",
       "kurtXaccel         1.000000     0.549545        -0.013486   -0.336707   \n",
       "rangeXaccel        0.549545     1.000000        -0.070730   -0.759227   \n",
       "variationXaccel   -0.013486    -0.070730         1.000000    0.022627   \n",
       "meanYaccel        -0.336707    -0.759227         0.022627    1.000000   \n",
       "medianYaccel      -0.327308    -0.499061         0.044378    0.652157   \n",
       "stdYaccel         -0.030208    -0.305080         0.063728    0.294358   \n",
       "skewYaccel         0.326523    -0.239955         0.000918    0.570986   \n",
       "kurtYaccel         0.758075     0.876112        -0.046464   -0.685131   \n",
       "rangeYaccel        0.444561     0.950067        -0.048208   -0.844770   \n",
       "variationYaccel    0.184439     0.552894         0.005104   -0.848130   \n",
       "meanZaccel         0.683003     0.796020        -0.036900   -0.541218   \n",
       "medianZaccel       0.346795     0.307046        -0.007904   -0.380203   \n",
       "stdZaccel         -0.619532    -0.642719         0.031867    0.799254   \n",
       "skewZaccel         0.238214     0.810604        -0.059143   -0.583239   \n",
       "kurtZaccel         0.352845    -0.197745         0.012573    0.258544   \n",
       "rangeZaccel        0.501481     0.855374        -0.060107   -0.514497   \n",
       "variationZaccel   -0.039788    -0.023586         0.000827    0.054384   \n",
       "\n",
       "                 medianYaccel       ...         kurtYaccel  rangeYaccel  \\\n",
       "age                  0.047809       ...           0.013984     0.151271   \n",
       "meanXaccel           0.254879       ...          -0.200545    -0.420693   \n",
       "medianXaccel         0.569305       ...          -0.363580    -0.447982   \n",
       "stdXaccel            0.456837       ...          -0.477378    -0.519661   \n",
       "skewXaccel           0.198768       ...          -0.160866    -0.429586   \n",
       "kurtXaccel          -0.327308       ...           0.758075     0.444561   \n",
       "rangeXaccel         -0.499061       ...           0.876112     0.950067   \n",
       "variationXaccel      0.044378       ...          -0.046464    -0.048208   \n",
       "meanYaccel           0.652157       ...          -0.685131    -0.844770   \n",
       "medianYaccel         1.000000       ...          -0.552470    -0.459022   \n",
       "stdYaccel            0.556938       ...          -0.400979    -0.308079   \n",
       "skewYaccel           0.122680       ...           0.016281    -0.380132   \n",
       "kurtYaccel          -0.552470       ...           1.000000     0.852937   \n",
       "rangeYaccel         -0.459022       ...           0.852937     1.000000   \n",
       "variationYaccel     -0.299398       ...           0.413951     0.678393   \n",
       "meanZaccel          -0.558545       ...           0.807851     0.678069   \n",
       "medianZaccel        -0.488905       ...           0.331551     0.266677   \n",
       "stdZaccel            0.719229       ...          -0.759811    -0.655642   \n",
       "skewZaccel          -0.363028       ...           0.709034     0.822874   \n",
       "kurtZaccel          -0.069321       ...           0.023016    -0.285049   \n",
       "rangeZaccel         -0.450473       ...           0.822849     0.803205   \n",
       "variationZaccel      0.020823       ...          -0.055130    -0.042037   \n",
       "\n",
       "                 variationYaccel  meanZaccel  medianZaccel  stdZaccel  \\\n",
       "age                     0.105092    0.088888      0.048780   0.112444   \n",
       "meanXaccel             -0.690892    0.050767      0.186519   0.455207   \n",
       "medianXaccel           -0.368064   -0.196309      0.181992   0.432543   \n",
       "stdXaccel              -0.191989   -0.157846     -0.012948   0.452901   \n",
       "skewXaccel             -0.378676    0.122381      0.164203   0.165828   \n",
       "kurtXaccel              0.184439    0.683003      0.346795  -0.619532   \n",
       "rangeXaccel             0.552894    0.796020      0.307046  -0.642719   \n",
       "variationXaccel         0.005104   -0.036900     -0.007904   0.031867   \n",
       "meanYaccel             -0.848130   -0.541218     -0.380203   0.799254   \n",
       "medianYaccel           -0.299398   -0.558545     -0.488905   0.719229   \n",
       "stdYaccel               0.100194   -0.179790     -0.059216   0.400305   \n",
       "skewYaccel             -0.803239    0.112386      0.024432   0.224645   \n",
       "kurtYaccel              0.413951    0.807851      0.331551  -0.759811   \n",
       "rangeYaccel             0.678393    0.678069      0.266677  -0.655642   \n",
       "variationYaccel         1.000000    0.260140      0.173340  -0.547990   \n",
       "meanZaccel              0.260140    1.000000      0.632628  -0.657378   \n",
       "medianZaccel            0.173340    0.632628      1.000000  -0.495239   \n",
       "stdZaccel              -0.547990   -0.657378     -0.495239   1.000000   \n",
       "skewZaccel              0.297030    0.533525      0.077709  -0.376745   \n",
       "kurtZaccel             -0.275199    0.161906      0.175250  -0.165175   \n",
       "rangeZaccel             0.198408    0.774491      0.297168  -0.482008   \n",
       "variationZaccel        -0.034396    0.008466      0.003589   0.044252   \n",
       "\n",
       "                 skewZaccel  kurtZaccel  rangeZaccel  variationZaccel  \n",
       "age                0.148497   -0.181526     0.128477         0.021032  \n",
       "meanXaccel        -0.239792    0.219428    -0.030785         0.036171  \n",
       "medianXaccel      -0.451097    0.169249    -0.323068         0.021924  \n",
       "stdXaccel         -0.728012    0.483194    -0.398622         0.081359  \n",
       "skewXaccel        -0.582019    0.684790    -0.151178         0.049057  \n",
       "kurtXaccel         0.238214    0.352845     0.501481        -0.039788  \n",
       "rangeXaccel        0.810604   -0.197745     0.855374        -0.023586  \n",
       "variationXaccel   -0.059143    0.012573    -0.060107         0.000827  \n",
       "meanYaccel        -0.583239    0.258544    -0.514497         0.054384  \n",
       "medianYaccel      -0.363028   -0.069321    -0.450473         0.020823  \n",
       "stdYaccel         -0.582862    0.268170    -0.363657         0.061835  \n",
       "skewYaccel        -0.091479    0.289463     0.061229         0.003182  \n",
       "kurtYaccel         0.709034    0.023016     0.822849        -0.055130  \n",
       "rangeYaccel        0.822874   -0.285049     0.803205        -0.042037  \n",
       "variationYaccel    0.297030   -0.275199     0.198408        -0.034396  \n",
       "meanZaccel         0.533525    0.161906     0.774491         0.008466  \n",
       "medianZaccel       0.077709    0.175250     0.297168         0.003589  \n",
       "stdZaccel         -0.376745   -0.165175    -0.482008         0.044252  \n",
       "skewZaccel         1.000000   -0.490897     0.810281        -0.054500  \n",
       "kurtZaccel        -0.490897    1.000000     0.050525         0.057567  \n",
       "rangeZaccel        0.810281    0.050525     1.000000        -0.011281  \n",
       "variationZaccel   -0.054500    0.057567    -0.011281         1.000000  \n",
       "\n",
       "[22 rows x 22 columns]"
      ]
     },
     "execution_count": 26,
     "metadata": {},
     "output_type": "execute_result"
    }
   ],
   "source": [
    "df.corr()"
   ]
  },
  {
   "cell_type": "markdown",
   "metadata": {},
   "source": [
    "## Correlation Matrix "
   ]
  },
  {
   "cell_type": "code",
   "execution_count": 27,
   "metadata": {
    "collapsed": false
   },
   "outputs": [
    {
     "data": {
      "image/png": "[encoded data removed]",
      "text/plain": [
       "<matplotlib.figure.Figure at 0x110ba8a20>"
      ]
     },
     "metadata": {},
     "output_type": "display_data"
    }
   ],
   "source": [
    "non_feature_cols = ['recordId', 'healthCode', 'professional-diagnosis']\n",
    "features = [col for col in df if col not in non_feature_cols]\n",
    "\n",
    "fig = plt.figure()\n",
    "ax = fig.add_subplot(111)\n",
    "cax = ax.matshow(pd.DataFrame.corr(df), vmin=-1, vmax=1, interpolation='none')\n",
    "fig.colorbar=(cax)\n",
    "ticks = np.arange(0, 23, 1)\n",
    "ax.set_yticks(ticks)\n",
    "ax.set_xticks(ticks)\n",
    "ax.set_xticklabels(df[features].columns, rotation='vertical')\n",
    "ax.set_yticklabels(df[features].columns)\n",
    "plt.show()"
   ]
  },
  {
   "cell_type": "markdown",
   "metadata": {
    "collapsed": true
   },
   "source": [
    "The black represents higher correlation and white represents the opposite. As one would expect the diagonal across represents the correlation of features with itself. The Z axis features seem to be less correlated than the Y and X axis features while the X and Y axis features appear the share more correlation."
   ]
  },
  {
   "cell_type": "code",
   "execution_count": null,
   "metadata": {
    "collapsed": true
   },
   "outputs": [],
   "source": []
  }
 ],
 "metadata": {
  "anaconda-cloud": {},
  "kernelspec": {
   "display_name": "Python [conda root]",
   "language": "python",
   "name": "conda-root-py"
  },
  "language_info": {
   "codemirror_mode": {
    "name": "ipython",
    "version": 3
   },
   "file_extension": ".py",
   "mimetype": "text/x-python",
   "name": "python",
   "nbconvert_exporter": "python",
   "pygments_lexer": "ipython3",
   "version": "3.5.2"
  }
 },
 "nbformat": 4,
 "nbformat_minor": 2
}
